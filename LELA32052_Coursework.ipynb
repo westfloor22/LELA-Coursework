{
  "cells": [
    {
      "cell_type": "markdown",
      "metadata": {
        "id": "S1TkziyV4x1w"
      },
      "source": [
        "# LELA32052 Coursework Assignment\n",
        "\n",
        "This document contains instructions, guidance and code for the coursework assignment for this module.\n",
        "\n",
        "The assignment focuses on the task of intent classification. You heard about this in the lecture on dialogue systems, and read about it in this week's reading. It is an important step in modern task-based dialogue systems - given a particular piece of input from the speaker, the system tries to determine what goal the speaker is trying to achieve, in order that it can then produce an appropriate response.\n",
        "\n",
        "Your task is to build a system that takes a transcribed user utterance as input and outputs one of seven different intents:\n",
        "\n",
        "'PlayMusic', e.g. \"play easy listening\" <br>\n",
        "'AddToPlaylist' e.g. \"please add this song to road trip\" <br>\n",
        "'RateBook' e.g. \"give this novel 5 stars\"  <br>\n",
        "'SearchScreeningEvent' e.g. \"give me a list of local movie times\"  <br>\n",
        "'BookRestaurant' e.g. \"i'd like a table for four at 7pm at Asti\"   <br>\n",
        "'GetWeather' e.g. \"what's it like outside\"  <br>\n",
        "'SearchCreativeWork' \"show me the new James Bond trailer\"  <br>\n",
        "\n",
        "You are going to evaluate the performance of this system using a test set of 700 user utterances.\n",
        "\n",
        "In order to create the system you have a training set of 700 utterances and a validation/development set of 700 utterances.\n",
        "\n",
        "This notebook contains code that you can use in the development of your system. Once you have created and evaluated your system, you are going to write a report of no more than 2000 words that describes and evaluates the task, the system and the experiments.\n",
        "\n",
        "A guide as to what should go in your report can be found [here]( https://www.dropbox.com/s/zlmbk60a4ei1jdh/Writing%20your%20Computational%20Linguistics%20Research%20Report.docx)\n",
        "\n",
        "Your report should be submitted via turnitin using the link on Blackboard. You should create a PDF of your notebook and add it as an appendix to your report (not included in word count).  This is just so that I can check what you have done if it isn't clear from your report. You will not be marked on the quality of any code you might include.\n",
        "\n",
        "Please feel free to ask any questions about any part of the coursework. So that my response can benefit everyone please do so using the Coursework Discussion board on Blackboard. You can find a link to this down the left of the module Blackboard page."
      ]
    },
    {
      "cell_type": "markdown",
      "metadata": {
        "id": "cZTKYPQXlkwp"
      },
      "source": [
        "## Preparation"
      ]
    },
    {
      "cell_type": "markdown",
      "metadata": {
        "id": "w9mhOx9Fo5O_"
      },
      "source": [
        "### Link drive\n",
        "\n",
        "Before you begin to build a system, there are a few steps necessary to set things up. The first of these is to link Colab to your Google Drive so that you can save files there."
      ]
    },
    {
      "cell_type": "code",
      "execution_count": 1,
      "metadata": {
        "id": "-FysoS88uoHa",
        "outputId": "5d7b3534-c182-489b-c5e2-87eb603d55e0",
        "colab": {
          "base_uri": "https://localhost:8080/"
        }
      },
      "outputs": [
        {
          "output_type": "stream",
          "name": "stdout",
          "text": [
            "Mounted at /content/gdrive\n",
            "mkdir: cannot create directory ‘/content/gdrive/My Drive/Intent_Classification/’: File exists\n"
          ]
        }
      ],
      "source": [
        "from google.colab import drive\n",
        "drive.mount(\"/content/gdrive\")\n",
        "!mkdir /content/gdrive/My\\ Drive/Intent_Classification/"
      ]
    },
    {
      "cell_type": "markdown",
      "metadata": {
        "id": "vBlQGSqdhYEq"
      },
      "source": [
        "### Download data and some utilities\n",
        "\n",
        "The next step is to download the data and some supporting code for the project and move it over to the Google Drive."
      ]
    },
    {
      "cell_type": "code",
      "execution_count": 2,
      "metadata": {
        "id": "GTM-h_dLypXc",
        "outputId": "f3fbd444-d5db-4124-a987-f53989d7d1cc",
        "colab": {
          "base_uri": "https://localhost:8080/"
        }
      },
      "outputs": [
        {
          "output_type": "stream",
          "name": "stdout",
          "text": [
            "--2025-03-10 15:24:55--  https://raw.githubusercontent.com/cbannard/compling24/refs/heads/main/Intent_Classification/intent_classification_with_splits.csv\n",
            "Resolving raw.githubusercontent.com (raw.githubusercontent.com)... 185.199.108.133, 185.199.110.133, 185.199.111.133, ...\n",
            "Connecting to raw.githubusercontent.com (raw.githubusercontent.com)|185.199.108.133|:443... connected.\n",
            "HTTP request sent, awaiting response... 200 OK\n",
            "Length: 139084 (136K) [text/plain]\n",
            "Saving to: ‘intent_classification_with_splits.csv’\n",
            "\n",
            "intent_classificati 100%[===================>] 135.82K  --.-KB/s    in 0.1s    \n",
            "\n",
            "2025-03-10 15:24:56 (1.16 MB/s) - ‘intent_classification_with_splits.csv’ saved [139084/139084]\n",
            "\n",
            "--2025-03-10 15:24:56--  https://raw.githubusercontent.com/cbannard/compling24/refs/heads/main/Intent_Classification/model.pth\n",
            "Resolving raw.githubusercontent.com (raw.githubusercontent.com)... 185.199.108.133, 185.199.109.133, 185.199.110.133, ...\n",
            "Connecting to raw.githubusercontent.com (raw.githubusercontent.com)|185.199.108.133|:443... connected.\n",
            "HTTP request sent, awaiting response... 200 OK\n",
            "Length: 2143 (2.1K) [application/octet-stream]\n",
            "Saving to: ‘model.pth’\n",
            "\n",
            "model.pth           100%[===================>]   2.09K  --.-KB/s    in 0s      \n",
            "\n",
            "2025-03-10 15:24:57 (23.8 MB/s) - ‘model.pth’ saved [2143/2143]\n",
            "\n",
            "--2025-03-10 15:24:57--  https://raw.githubusercontent.com/cbannard/compling24/refs/heads/main/Intent_Classification/nn_tools.py\n",
            "Resolving raw.githubusercontent.com (raw.githubusercontent.com)... 185.199.108.133, 185.199.109.133, 185.199.110.133, ...\n",
            "Connecting to raw.githubusercontent.com (raw.githubusercontent.com)|185.199.108.133|:443... connected.\n",
            "HTTP request sent, awaiting response... 200 OK\n",
            "Length: 12574 (12K) [text/plain]\n",
            "Saving to: ‘nn_tools.py’\n",
            "\n",
            "nn_tools.py         100%[===================>]  12.28K  --.-KB/s    in 0.002s  \n",
            "\n",
            "2025-03-10 15:24:57 (4.97 MB/s) - ‘nn_tools.py’ saved [12574/12574]\n",
            "\n",
            "--2025-03-10 15:24:57--  https://raw.githubusercontent.com/cbannard/compling24/refs/heads/main/Intent_Classification/nn_tools2.py\n",
            "Resolving raw.githubusercontent.com (raw.githubusercontent.com)... 185.199.110.133, 185.199.108.133, 185.199.109.133, ...\n",
            "Connecting to raw.githubusercontent.com (raw.githubusercontent.com)|185.199.110.133|:443... connected.\n",
            "HTTP request sent, awaiting response... 200 OK\n",
            "Length: 14989 (15K) [text/plain]\n",
            "Saving to: ‘nn_tools2.py’\n",
            "\n",
            "nn_tools2.py        100%[===================>]  14.64K  --.-KB/s    in 0.004s  \n",
            "\n",
            "2025-03-10 15:24:58 (3.71 MB/s) - ‘nn_tools2.py’ saved [14989/14989]\n",
            "\n",
            "--2025-03-10 15:24:58--  https://raw.githubusercontent.com/cbannard/compling24/refs/heads/main/Intent_Classification/vectorizer.json\n",
            "Resolving raw.githubusercontent.com (raw.githubusercontent.com)... 185.199.111.133, 185.199.108.133, 185.199.110.133, ...\n",
            "Connecting to raw.githubusercontent.com (raw.githubusercontent.com)|185.199.111.133|:443... connected.\n",
            "HTTP request sent, awaiting response... 200 OK\n",
            "Length: 756 [text/plain]\n",
            "Saving to: ‘vectorizer.json’\n",
            "\n",
            "vectorizer.json     100%[===================>]     756  --.-KB/s    in 0s      \n",
            "\n",
            "2025-03-10 15:24:59 (43.2 MB/s) - ‘vectorizer.json’ saved [756/756]\n",
            "\n"
          ]
        }
      ],
      "source": [
        "!wget https://raw.githubusercontent.com/cbannard/compling24/refs/heads/main/Intent_Classification/intent_classification_with_splits.csv\n",
        "!wget https://raw.githubusercontent.com/cbannard/compling24/refs/heads/main/Intent_Classification/model.pth\n",
        "!wget https://raw.githubusercontent.com/cbannard/compling24/refs/heads/main/Intent_Classification/nn_tools.py\n",
        "!wget https://raw.githubusercontent.com/cbannard/compling24/refs/heads/main/Intent_Classification/nn_tools2.py\n",
        "!wget https://raw.githubusercontent.com/cbannard/compling24/refs/heads/main/Intent_Classification/vectorizer.json"
      ]
    },
    {
      "cell_type": "markdown",
      "metadata": {
        "id": "omZSU3G3an8z"
      },
      "source": [
        "### Import packages\n",
        "\n",
        "Finally we need to import some packages to use later"
      ]
    },
    {
      "cell_type": "code",
      "execution_count": 3,
      "metadata": {
        "id": "hGm07r91HRN0"
      },
      "outputs": [],
      "source": [
        "from argparse import Namespace\n",
        "from collections import Counter\n",
        "import json\n",
        "import os\n",
        "import re\n",
        "import string\n",
        "import random\n",
        "\n",
        "import numpy as np\n",
        "import pandas as pd\n",
        "import torch\n",
        "import torch.nn as nn\n",
        "import torch.optim as optim\n",
        "import torch.nn.functional as F\n",
        "from torch.utils.data import Dataset, DataLoader\n",
        "from tqdm import tqdm_notebook\n",
        "from nn_tools import Vocabulary, IntentVectorizer, IntentDataset, IntentClassifier\n",
        "from nn_tools2 import *\n",
        "from sklearn.metrics import confusion_matrix\n",
        "\n"
      ]
    },
    {
      "cell_type": "markdown",
      "metadata": {
        "id": "Q5lUe_HTHAre"
      },
      "source": [
        "## Rule-based approach\n",
        "\n",
        "Your task here is to create a classifier using rules, in the form of regular expressions. I have provided you with the basic code for doing this. You will just need to edit the regular expressions in order to improve performance."
      ]
    },
    {
      "cell_type": "markdown",
      "metadata": {
        "id": "1zJle8ZcomM5"
      },
      "source": [
        "### Loading and inspecting project data\n",
        "A valuable first step in order to understand the task is to inspect the data in order to understand the different intents being detected.\n",
        "\n",
        "First you need to load the data:\n"
      ]
    },
    {
      "cell_type": "code",
      "execution_count": 4,
      "metadata": {
        "id": "oFqX30mBqOeS"
      },
      "outputs": [],
      "source": [
        "intent_data=pd.read_csv('intent_classification_with_splits.csv')"
      ]
    },
    {
      "cell_type": "markdown",
      "metadata": {
        "id": "2VKwiv3tzF-R"
      },
      "source": [
        "You can then examine example utterances for each of the intent types as follows."
      ]
    },
    {
      "cell_type": "markdown",
      "metadata": {
        "id": "YeWQDiVGmDrl"
      },
      "source": [
        "##### Play Music examples\n"
      ]
    },
    {
      "cell_type": "code",
      "execution_count": null,
      "metadata": {
        "id": "bP0TJCpar3TM"
      },
      "outputs": [],
      "source": [
        "pd.set_option('display.max_colwidth', None)\n",
        "intent_data[intent_data[\"split\"] == \"train\"][intent_data[\"intent\"] == \"PlayMusic\"][\"text\"].head(10).tolist"
      ]
    },
    {
      "cell_type": "markdown",
      "metadata": {
        "id": "E9MTykZ5qZo8"
      },
      "source": [
        "##### AddToPlaylist examples\n"
      ]
    },
    {
      "cell_type": "code",
      "execution_count": null,
      "metadata": {
        "id": "9TXSUlg5nToK"
      },
      "outputs": [],
      "source": [
        "pd.set_option('display.max_colwidth', None)\n",
        "intent_data[intent_data[\"split\"] == \"train\"][intent_data[\"intent\"] == \"AddToPlaylist\"][\"text\"].head(10).tolist()"
      ]
    },
    {
      "cell_type": "markdown",
      "metadata": {
        "id": "XBmwWhHXspEH"
      },
      "source": [
        "##### RateBook examples"
      ]
    },
    {
      "cell_type": "code",
      "execution_count": null,
      "metadata": {
        "id": "w7La8pN-qm4y"
      },
      "outputs": [],
      "source": [
        "pd.set_option('display.max_colwidth', None)\n",
        "intent_data[intent_data[\"split\"] == \"train\"][intent_data[\"intent\"] == \"RateBook\"][\"text\"].head(10).tolist()"
      ]
    },
    {
      "cell_type": "markdown",
      "metadata": {
        "id": "Mbun8erusuct"
      },
      "source": [
        "##### SearchScreeningEvent examples"
      ]
    },
    {
      "cell_type": "code",
      "execution_count": null,
      "metadata": {
        "id": "7OOlHf-QqnCh"
      },
      "outputs": [],
      "source": [
        "pd.set_option('display.max_colwidth', None)\n",
        "intent_data[intent_data[\"split\"] == \"train\"][intent_data[\"intent\"] == \"SearchScreeningEvent\"][\"text\"].head(10).tolist()"
      ]
    },
    {
      "cell_type": "markdown",
      "metadata": {
        "id": "CiRtSmCWszDm"
      },
      "source": [
        "##### BookRestaurant examples"
      ]
    },
    {
      "cell_type": "code",
      "execution_count": null,
      "metadata": {
        "id": "gW_cWhqDqnNN"
      },
      "outputs": [],
      "source": [
        "pd.set_option('display.max_colwidth', None)\n",
        "intent_data[intent_data[\"split\"] == \"train\"][intent_data[\"intent\"] == \"BookRestaurant\"][\"text\"].head(10).tolist()"
      ]
    },
    {
      "cell_type": "markdown",
      "metadata": {
        "id": "Z0gyT9tbs5Lc"
      },
      "source": [
        "##### GetWeather examples"
      ]
    },
    {
      "cell_type": "code",
      "execution_count": null,
      "metadata": {
        "id": "xL_iKqhOqnWZ"
      },
      "outputs": [],
      "source": [
        "pd.set_option('display.max_colwidth', None)\n",
        "intent_data[intent_data[\"split\"] == \"train\"][intent_data[\"intent\"] == \"GetWeather\"][\"text\"].head(10).tolist()"
      ]
    },
    {
      "cell_type": "markdown",
      "metadata": {
        "id": "SkzIGFLAs8ix"
      },
      "source": [
        "##### SearchCreativeWork examples"
      ]
    },
    {
      "cell_type": "code",
      "execution_count": null,
      "metadata": {
        "id": "g4p6LY4cqnet"
      },
      "outputs": [],
      "source": [
        "pd.set_option('display.max_colwidth', None)\n",
        "intent_data[intent_data[\"split\"] == \"train\"][intent_data[\"intent\"] == \"SearchCreativeWork\"][\"text\"].head(10).tolist()"
      ]
    },
    {
      "cell_type": "markdown",
      "metadata": {
        "id": "tcCyWyTuzmCF"
      },
      "source": [
        "## Building a rule based classifier"
      ]
    },
    {
      "cell_type": "markdown",
      "metadata": {
        "id": "Ks4pXmXhMxSo"
      },
      "source": [
        "### Preprocessing\n",
        "\n",
        "To increase the generalisability of your system you can preprocess it to, for example, convert morphological variants to a single \"lemma\". You can do this by adding different substitution (re.sub) functions to the function below. The function as is stands doesn't do anything - you need to update the re.sub statements. This isn't an essential step as you can deal with variants in your patterns, but it will help to reduce redundancy in your classifier regular expressions which you may find helpful.\n"
      ]
    },
    {
      "cell_type": "code",
      "execution_count": 5,
      "metadata": {
        "id": "hN5S4nkZtg96"
      },
      "outputs": [],
      "source": [
        "def preprocess_utterance(utt):\n",
        "  utt = re.sub(\"(?<!s)s$\",\"\", utt) # Remove 's' at the end of word if not 'ss'\n",
        "  utt = re.sub(\"ed$\",\"\", utt)      # Remove past tense\n",
        "  utt = re.sub(\"ing$\",\"\", utt)     # Remove present progressive\n",
        "  utt = re.sub(\"er$\",\"\", utt)      # Remove comparative adjectives\n",
        "  utt = re.sub(\"est$\",\"\", utt)     # Remove superlative adjectives\n",
        "  return utt"
      ]
    },
    {
      "cell_type": "markdown",
      "metadata": {
        "id": "-haCPpLEzF-U"
      },
      "source": [
        "You can test whether you patterns are working as intented using the following code."
      ]
    },
    {
      "cell_type": "code",
      "execution_count": null,
      "metadata": {
        "id": "cN1PE_VXzF-V"
      },
      "outputs": [],
      "source": [
        "test_input = input(\"Enter a utterance to test your preprocessing on: \")\n",
        "print(preprocess_utterance(test_input))"
      ]
    },
    {
      "cell_type": "markdown",
      "metadata": {
        "id": "mxiA0Zn4tMhQ"
      },
      "source": [
        "### Define patterns\n",
        "\n",
        "The function below takes an utterance as input and applies a series of regular expressions to identify the intent of the speaker. The regular expressions currently just looks for keywords taken from the intent name. You should update these patterns to be more appropriate and capture a wider range of utterances for each intent.\n",
        "\n",
        "Each time you update the code you will need to run the code cell in order to then use the function."
      ]
    },
    {
      "cell_type": "markdown",
      "metadata": {
        "id": "NZ0HamWjAzV_"
      },
      "source": [
        "The assign_intent function uses the re.findall function (see week 2) in order to make as many matches as possible with each pattern. The number of matches is then counted (using the len function) for each pattern. The intent with the largest number of matches is then returned as the predicted intent. Imagine for example that your patterns for PlayMusic and GetWeather were as follows: <br>\n",
        "PlayMusic_Pattern = re.compile(\"play|music\") <br>\n",
        "GetWeather_Pattern = re.compile(\"get|weather\") <br>\n",
        "while the input utterances was \"play some music by the weather girls\".\n",
        "In this case the PlayMusic pattern would match twice (for play and music) while the GetWeather pattern would only match once. PlayMusic would be returned as the predicted intent. Where there is a tie (as would happen if, for example, the input was simply \"play the weather girls\") a prediction is randomly sampled from among the tied intents."
      ]
    },
    {
      "cell_type": "code",
      "execution_count": 6,
      "metadata": {
        "id": "GTaIRW-x4Ezb"
      },
      "outputs": [],
      "source": [
        "def assign_intent(utt, verbose=False):\n",
        "  PlayMusic_Pattern = re.compile(\"play|music|by|something|hear|fm|spotify|youtube|zvooq|radio|album\")\n",
        "  AddToPlaylist_Pattern = re.compile(\"add|playlist|song|album|artist\")\n",
        "  RateBook_Pattern = re.compile(\"rate|give|star|point|novel|[1-9]|10\")\n",
        "  SearchScreeningEvent_Pattern = re.compile(r\"screen|cinema|theatre|movie|film|show|time|schedule|close|theatre\")\n",
        "  BookRestaurant_Pattern = re.compile(\"book|restaurant|reservation|reserve|table|people|spot\")\n",
        "  GetWeather_Pattern = re.compile(\"get|weather|forecast|hot|warm|rain|rainy|near|tomorrow|today|wind|windy|frost|frosty\")\n",
        "  SearchCreativeWork_Pattern = re.compile(\"creative|search|look|find|work|tv\")\n",
        "\n",
        "  weights = {}\n",
        "  weights['PlayMusic'] = len(re.findall(PlayMusic_Pattern,  utt))\n",
        "  weights['AddToPlaylist'] = len(re.findall(AddToPlaylist_Pattern,  utt))\n",
        "  weights['RateBook'] = len(re.findall(RateBook_Pattern,  utt))\n",
        "  weights['SearchScreeningEvent'] = len(re.findall(SearchScreeningEvent_Pattern,  utt))\n",
        "  weights['BookRestaurant'] = len(re.findall(BookRestaurant_Pattern,  utt))\n",
        "  weights['GetWeather'] = len(re.findall(GetWeather_Pattern,  utt))\n",
        "  weights['SearchCreativeWork'] = len(re.findall(SearchCreativeWork_Pattern,  utt))\n",
        "  if verbose:\n",
        "      print(weights)\n",
        "  if max(weights.values()) == 0:\n",
        "      return random.choice(list(weights.keys()))\n",
        "  else:\n",
        "      weights_as_list = list(weights.items())\n",
        "      random.shuffle(weights_as_list)\n",
        "      weights=dict(weights_as_list)\n",
        "      return max(weights, key=lambda key: weights[key])"
      ]
    },
    {
      "cell_type": "markdown",
      "metadata": {
        "id": "4cwzJHqDLokL"
      },
      "source": [
        "### Evaluation\n",
        "When you run this cell you will be asked to enter an utterance. When you press return the scores for each classification of your input will be printed. You can use this to check whether your preprocess_utterance and/or assign_intent functions are working as intended."
      ]
    },
    {
      "cell_type": "code",
      "execution_count": null,
      "metadata": {
        "id": "WZqyRr_sIJvw"
      },
      "outputs": [],
      "source": [
        "new_input = input(\"Enter a utterance to classify: \")\n",
        "prediction = assign_intent(preprocess_utterance(new_input),verbose=True)\n",
        "print(prediction)"
      ]
    },
    {
      "cell_type": "markdown",
      "metadata": {
        "id": "lsec0kYpLh0s"
      },
      "source": [
        "In order to perform a stricter assessment of the performance of your classifier, you should examine its performance on the validation dataset. If you run the cell below you will be told the accuracy score on those 700 utterances."
      ]
    },
    {
      "cell_type": "code",
      "execution_count": 7,
      "metadata": {
        "id": "pCDozgVm2XnZ",
        "outputId": "740ee0bc-a220-4db6-95b9-e51abc2ccd12",
        "colab": {
          "base_uri": "https://localhost:8080/"
        }
      },
      "outputs": [
        {
          "output_type": "stream",
          "name": "stdout",
          "text": [
            "0.8057142857142857\n"
          ]
        }
      ],
      "source": [
        "predicted = [assign_intent(preprocess_utterance(item)) for item in intent_data[intent_data['split'] == \"val\"]['text']]\n",
        "true = intent_data[intent_data['split'] == \"val\"]['intent']\n",
        "accuracy = (predicted == true).sum()/len(true)\n",
        "print(accuracy)"
      ]
    },
    {
      "cell_type": "markdown",
      "metadata": {
        "id": "xajHmMX33-oC"
      },
      "source": [
        "Running the next cell will give you a \"confusion matrix\". This tells you the number of times that each intent as given in the rows is classified (correctly or otherwise) as each intent as represented by the columns. The columns are displayed as numbers but you can check which each of these numbers stands for by looking into the parentheses after each intent in the rows.\n",
        "\n",
        "Studying this will give you an idea of where the classifier might be going wrong, and therefore of how you might update your patterns."
      ]
    },
    {
      "cell_type": "code",
      "execution_count": 8,
      "metadata": {
        "id": "j1t-etZ3L7iS",
        "outputId": "39f50390-2946-4977-bb10-b0252b96e221",
        "colab": {
          "base_uri": "https://localhost:8080/"
        }
      },
      "outputs": [
        {
          "output_type": "stream",
          "name": "stdout",
          "text": [
            "                           0   1   2   3   4   5   6\n",
            "AddToPlaylist (0)         88   0   3   3   1   2   0\n",
            "BookRestaurant (1)         0  85   2   0   1   3   1\n",
            "GetWeather (2)             0   1  58   1   1  10   2\n",
            "PlayMusic (3)              8   1   0  87   1   5  13\n",
            "RateBook (4)               3  12  33   9  96   4   4\n",
            "SearchCreativeWork (5)     1   1   3   0   0  70   0\n",
            "SearchScreeningEvent (6)   0   0   1   0   0   6  80\n"
          ]
        }
      ],
      "source": [
        "print(pd.DataFrame(confusion_matrix(predicted, true), index=[\"AddToPlaylist (0)\", \"BookRestaurant (1)\", \"GetWeather (2)\", \"PlayMusic (3)\", \"RateBook (4)\", \"SearchCreativeWork (5)\", \"SearchScreeningEvent (6)\"]))"
      ]
    },
    {
      "cell_type": "markdown",
      "metadata": {
        "id": "xV9Py45v2HdG"
      },
      "source": [
        "Once you are happy that you have defined the best patterns that you can, you should evaluate the performance of your classifier on the test data (a set of 700 utterances that you haven't looked at). The accuracy printed is what you should include in your report."
      ]
    },
    {
      "cell_type": "code",
      "execution_count": 9,
      "metadata": {
        "id": "Z3DqHjOs02yk",
        "outputId": "daf5cc7f-e958-4467-98d2-8cc6ce0e2f0b",
        "colab": {
          "base_uri": "https://localhost:8080/"
        }
      },
      "outputs": [
        {
          "output_type": "stream",
          "name": "stdout",
          "text": [
            "0.7\n"
          ]
        }
      ],
      "source": [
        "predicted = [assign_intent(preprocess_utterance(item)) for item in intent_data[intent_data['split'] == \"test\"]['text']]\n",
        "true = intent_data[intent_data['split'] == \"test\"]['intent']\n",
        "accuracy = (predicted == true).sum()/len(true)\n",
        "print(accuracy)"
      ]
    },
    {
      "cell_type": "markdown",
      "metadata": {
        "id": "YvH8ufhD5fzd"
      },
      "source": [
        "You can also generate a confusion matrix for the test data and use this in the discussion of the results in your write up."
      ]
    },
    {
      "cell_type": "code",
      "execution_count": 10,
      "metadata": {
        "id": "ODBNlsOQ5fEf",
        "outputId": "aca4c74d-bd55-40fb-9f3e-75d97827d5ee",
        "colab": {
          "base_uri": "https://localhost:8080/"
        }
      },
      "outputs": [
        {
          "output_type": "stream",
          "name": "stdout",
          "text": [
            "                           0   1   2   3   4   5   6\n",
            "AddToPlaylist (0)         95   0   4   3   1   6   0\n",
            "BookRestaurant (1)         0  68   4   0   4   1   2\n",
            "GetWeather (2)             1   2  55   0   2   8   4\n",
            "PlayMusic (3)             16   0   7  71   0  15  11\n",
            "RateBook (4)               9  18  26  12  73   4   7\n",
            "SearchCreativeWork (5)     1   2   3   0   0  52   7\n",
            "SearchScreeningEvent (6)   2   2   5   0   0  21  76\n"
          ]
        }
      ],
      "source": [
        "print(pd.DataFrame(confusion_matrix(predicted, true), index=[\"AddToPlaylist (0)\", \"BookRestaurant (1)\", \"GetWeather (2)\", \"PlayMusic (3)\", \"RateBook (4)\", \"SearchCreativeWork (5)\", \"SearchScreeningEvent (6)\"]))"
      ]
    },
    {
      "cell_type": "markdown",
      "metadata": {
        "id": "EbiBTPm2EWM_"
      },
      "source": [
        "## Single Layer Perceptron Classifier\n",
        "\n",
        "The next classifier you can build is single-layer perceptron. The specification of this model is in the next cell. You shouldn't make any changes to this."
      ]
    },
    {
      "cell_type": "code",
      "execution_count": 11,
      "metadata": {
        "id": "mhqmeFunSxTY"
      },
      "outputs": [],
      "source": [
        "class IntentClassifierPerceptron(nn.Module):\n",
        "    \"\"\" a simple perceptron based classifier \"\"\"\n",
        "    def __init__(self, input_dim, output_dim):\n",
        "        \"\"\"\n",
        "        Args:\n",
        "            num_features (int): the size of the input feature vector\n",
        "        \"\"\"\n",
        "        super(IntentClassifierPerceptron, self).__init__()\n",
        "        self.fc1 = nn.Linear(input_dim, output_dim)\n",
        "\n",
        "\n",
        "\n",
        "\n",
        "    def forward(self, x_in, apply_softmax=True):\n",
        "        \"\"\"The forward pass of the classifier\n",
        "\n",
        "        Args:\n",
        "            x_in (torch.Tensor): an input data tensor.\n",
        "                x_in.shape should be (batch, num_features)\n",
        "            apply_softmax (bool): a flag for the softmax activation\n",
        "        Returns:\n",
        "            the resulting tensor. tensor.shape should be (batch,)\n",
        "        \"\"\"\n",
        "\n",
        "        y_out = self.fc1(x_in)\n",
        "        if apply_softmax:\n",
        "            y_out = F.softmax(y_out,dim=1)\n",
        "        return y_out\n"
      ]
    },
    {
      "cell_type": "markdown",
      "metadata": {
        "id": "rxIBFz42QIF2"
      },
      "source": [
        "### Preprocessing\n",
        "As with the rule-based model, to increase the generalisability of your system you can preprocess the text to, for example, convert morphological variants to a single \"lemma\". You can do ths by adding different substitution (re.sub) functions to the function below. The function as is stands doesn't do anything - you need to update the re.sub statements.\n"
      ]
    },
    {
      "cell_type": "code",
      "execution_count": 12,
      "metadata": {
        "id": "wJK3bcpeQIF-"
      },
      "outputs": [],
      "source": [
        "def preprocess_utterance(utt):\n",
        "  utt = re.sub(\"(?<!s)s$\",\"\", utt) # Remove 's' at the end of word if not 'ss'\n",
        "  utt = re.sub(\"ed$\",\"\", utt)      # Remove past tense\n",
        "  utt = re.sub(\"ing$\",\"\", utt)     # Remove present progressive\n",
        "  utt = re.sub(\"er$\",\"\", utt)      # Remove comparative adjectives\n",
        "  utt = re.sub(\"est$\",\"\", utt)     # Remove superlative adjectives\n",
        "  return utt"
      ]
    },
    {
      "cell_type": "markdown",
      "metadata": {
        "id": "-d7BwY4CQIF-"
      },
      "source": [
        "For this machine-learning-based model we are going to make the preprocessing changes to the data used, and this will involve making changes to the file we have saved. When we need to revert to the original unaltered file, we can then run the following cell."
      ]
    },
    {
      "cell_type": "markdown",
      "source": [],
      "metadata": {
        "id": "DabzSQ_pc8dj"
      }
    },
    {
      "cell_type": "code",
      "execution_count": 13,
      "metadata": {
        "id": "Tr2Uiq-YQIF_",
        "outputId": "c96b1045-fd17-448e-e20d-5cf6adcaa2dc",
        "colab": {
          "base_uri": "https://localhost:8080/"
        }
      },
      "outputs": [
        {
          "output_type": "stream",
          "name": "stdout",
          "text": [
            "--2025-03-10 15:26:31--  https://raw.githubusercontent.com/cbannard/compling24/refs/heads/main/Intent_Classification/intent_classification_with_splits.csv\n",
            "Resolving raw.githubusercontent.com (raw.githubusercontent.com)... 185.199.110.133, 185.199.109.133, 185.199.108.133, ...\n",
            "Connecting to raw.githubusercontent.com (raw.githubusercontent.com)|185.199.110.133|:443... connected.\n",
            "HTTP request sent, awaiting response... 200 OK\n",
            "Length: 139084 (136K) [text/plain]\n",
            "Saving to: ‘intent_classification_with_splits.csv’\n",
            "\n",
            "intent_classificati 100%[===================>] 135.82K  --.-KB/s    in 0.1s    \n",
            "\n",
            "2025-03-10 15:26:31 (1.17 MB/s) - ‘intent_classification_with_splits.csv’ saved [139084/139084]\n",
            "\n"
          ]
        }
      ],
      "source": [
        "!wget https://raw.githubusercontent.com/cbannard/compling24/refs/heads/main/Intent_Classification/intent_classification_with_splits.csv -O intent_classification_with_splits.csv\n",
        "!cp intent_classification_with_splits.csv /content/gdrive/My\\ Drive/Intent_Classification/\n",
        "intent_data=pd.read_csv('intent_classification_with_splits.csv')"
      ]
    },
    {
      "cell_type": "markdown",
      "metadata": {
        "id": "Lltyd5emQIF_"
      },
      "source": [
        "You can check that your preprocessing patterns are doing what we want by testing them on examples using the following cell"
      ]
    },
    {
      "cell_type": "code",
      "execution_count": null,
      "metadata": {
        "id": "xmmw5G5QQIF_"
      },
      "outputs": [],
      "source": [
        "test_input = input(\"Enter a utterance to test your preprocessing on: \")\n",
        "print(preprocess_utterance(test_input))"
      ]
    },
    {
      "cell_type": "markdown",
      "metadata": {
        "id": "PKxW9JpRQIF_"
      },
      "source": [
        "Once you are happy with your preprocessing you can then transform the text in the training, validation and test data using the following cell. This alters the data on the disk so if you want to undo any changes later you will have to revert to the original data (as described above)."
      ]
    },
    {
      "cell_type": "code",
      "execution_count": 14,
      "metadata": {
        "id": "fLg0h1JIQIF_"
      },
      "outputs": [],
      "source": [
        "intent_data=pd.read_csv('intent_classification_with_splits.csv')\n",
        "intent_data['text'] = [preprocess_utterance(item) for item in intent_data['text']]\n",
        "intent_data.to_csv('intent_classification_with_splits.csv', index=False)\n",
        "!cp intent_classification_with_splits.csv /content/gdrive/My\\ Drive/Intent_Classification/"
      ]
    },
    {
      "cell_type": "markdown",
      "metadata": {
        "id": "pkTtqltm6Ctc"
      },
      "source": [
        "### Training the model\n",
        "In order to first initialise your model and then train it, you should run the following cell. The training will take a minute or two to complete - the progress bars will tell you how far along it is.\n"
      ]
    },
    {
      "cell_type": "code",
      "execution_count": 15,
      "metadata": {
        "id": "Nj-qJML1ja7t",
        "outputId": "c16bb463-4cc3-4d18-c5ee-67aed89eb59a",
        "colab": {
          "base_uri": "https://localhost:8080/",
          "height": 181,
          "referenced_widgets": [
            "e25457c399424bda9b96cf9a5e7d1853",
            "fd12b65f5a27428c9c6162610b076f76",
            "aef57c13082e42e68f3e8075a9c4a4aa",
            "30006076e782456c822571ca1e6e29b3",
            "ed58f047448e48f0ad06d69e9291cb51",
            "326f2698ddfd4cb497817e75526c7c95",
            "ab960a00eca24bedaff644820ed8c5a0",
            "87027e6a7d1f486fa66fb93a3c68916e",
            "b2e18f8f760f4ccba9deb237aa6851e9",
            "f64c7ff0e0e94213849f3849c7d197ad",
            "f1caaf58bf744101903f6a87a1925a3a",
            "c0adc74459ca49eab3ad38e180ee90ca",
            "7c8ba08955884d9fba44c40897194dfc",
            "3aae0cb322c94c25ba2d522f09a0b99d",
            "b2d4ca7cee31449d8b8a4f551951c7d7",
            "2a915f2e29b240469c5c8a40dd4f8b12",
            "63bc8f79ff2b49ff91a7f00dbac24fbb",
            "0eb5d087fe9c483d9c62e38c8cc22c7a",
            "6d684b26a0b241f5b19246689aed3137",
            "4898a14788134addac52e2857000b437",
            "00a92b9b82c2494db31a8ac2ba263475",
            "360e6baf9dc947949ebb73fa9f43ac49",
            "4932b774cf9345deac6b8df2df9ed04b",
            "6be505a9af3b478e851aa57baba06aea",
            "6a1bbb6d97bd4c09b162a97f5136319f",
            "e3568282e364460ab0dd3bbc0f9babdc",
            "f7ba2f7904eb41669acd7c6139cbaaf7",
            "54cab53b9351481fa00bee7b1ae7f105",
            "1275a12b21b24a9c83ab4a8b87bdf6cb",
            "e390ffb9cc8b48a08419077b4e8e560d",
            "8efa39aeb66145c58a8c0d6de8d45c75",
            "25e622b0b30a4311b6054f5505027831",
            "d88d65dc418f4dc3a4372b3683dc1439"
          ]
        }
      },
      "outputs": [
        {
          "output_type": "stream",
          "name": "stdout",
          "text": [
            "Expanded filepaths: \n",
            "\t/content/gdrive/My Drive/Intent_Classification/vectorizer.json\n",
            "\t/content/gdrive/My Drive/Intent_Classification/model.pth\n",
            "Using CUDA: False\n"
          ]
        },
        {
          "output_type": "display_data",
          "data": {
            "text/plain": [
              "training routine:   0%|          | 0/100 [00:00<?, ?it/s]"
            ],
            "application/vnd.jupyter.widget-view+json": {
              "version_major": 2,
              "version_minor": 0,
              "model_id": "e25457c399424bda9b96cf9a5e7d1853"
            }
          },
          "metadata": {}
        },
        {
          "output_type": "display_data",
          "data": {
            "text/plain": [
              "split=train:   0%|          | 0/5 [00:00<?, ?it/s]"
            ],
            "application/vnd.jupyter.widget-view+json": {
              "version_major": 2,
              "version_minor": 0,
              "model_id": "c0adc74459ca49eab3ad38e180ee90ca"
            }
          },
          "metadata": {}
        },
        {
          "output_type": "display_data",
          "data": {
            "text/plain": [
              "split=val:   0%|          | 0/5 [00:00<?, ?it/s]"
            ],
            "application/vnd.jupyter.widget-view+json": {
              "version_major": 2,
              "version_minor": 0,
              "model_id": "4932b774cf9345deac6b8df2df9ed04b"
            }
          },
          "metadata": {}
        }
      ],
      "source": [
        "params = initialise()\n",
        "classifier = IntentClassifierPerceptron(input_dim=len(params.vectorizer.text_vocab),output_dim=len(params.vectorizer.intent_vocab))\n",
        "train_state = trainModel(params, params.dataset, classifier)"
      ]
    },
    {
      "cell_type": "markdown",
      "metadata": {
        "id": "ejmO5vhuHn72"
      },
      "source": [
        "### Test on individual utterance\n",
        "\n",
        "As with the rule-based classifier you can look at the performance of the system on a single example utterance. This can be used to see whether your preprocessing is helping to capture the cases you hoped."
      ]
    },
    {
      "cell_type": "code",
      "execution_count": null,
      "metadata": {
        "id": "5OEZKHmDKG2M"
      },
      "outputs": [],
      "source": [
        "torch.manual_seed(0)\n",
        "new_utterance = input(\"Enter a utterance to classify: \")\n",
        "classifier = classifier.to(\"cpu\")\n",
        "prediction = predict_intent(preprocess_utterance(new_utterance), classifier, params.vectorizer)\n",
        "print(\"{} -> {} (p={:0.2f})\".format(new_utterance,\n",
        "                                    prediction['intent'],\n",
        "                                    prediction['probability']))"
      ]
    },
    {
      "cell_type": "markdown",
      "metadata": {
        "id": "ulIyMBO1qGfZ"
      },
      "source": [
        "### Evaluate performance on validation data\n",
        "In order to evaluate the performance of your system while you tweak your preprocessing you can evaluate performance on the validation data, and look at a confusion matrix."
      ]
    },
    {
      "cell_type": "code",
      "execution_count": 16,
      "metadata": {
        "id": "LZjsKUtLldPL",
        "outputId": "4a89ae35-095a-4426-82e6-df487327f6a5",
        "colab": {
          "base_uri": "https://localhost:8080/"
        }
      },
      "outputs": [
        {
          "output_type": "stream",
          "name": "stdout",
          "text": [
            "Test Accuracy: 85.16\n",
            "                       0   1   2   3   4   5   6\n",
            "AddToPlaylist         85   0   0   2   1   3   0\n",
            "BookRestaurant         0  96   4   2   0   8  14\n",
            "GetWeather             0   0  90   1   0   7  10\n",
            "PlayMusic              1   1   1  79   1   6   6\n",
            "RateBook               1   0   0   0  93   7   3\n",
            "SearchCreativeWork     0   0   0   0   0  54   5\n",
            "SearchScreeningEvent   0   0   2   0   0   9  48\n"
          ]
        },
        {
          "output_type": "stream",
          "name": "stderr",
          "text": [
            "/content/nn_tools2.py:375: FutureWarning: You are using `torch.load` with `weights_only=False` (the current default value), which uses the default pickle module implicitly. It is possible to construct malicious pickle data which will execute arbitrary code during unpickling (See https://github.com/pytorch/pytorch/blob/main/SECURITY.md#untrusted-models for more details). In a future release, the default value for `weights_only` will be flipped to `True`. This limits the functions that could be executed during unpickling. Arbitrary objects will no longer be allowed to be loaded via this mode unless they are explicitly allowlisted by the user via `torch.serialization.add_safe_globals`. We recommend you start setting `weights_only=True` for any use case where you don't have full control of the loaded file. Please open an issue on GitHub for any issues related to this experimental feature.\n",
            "  classifier.load_state_dict(torch.load(train_state['model_filename']))\n"
          ]
        }
      ],
      "source": [
        "torch.manual_seed(0)\n",
        "predicted, true = evaluate(params, classifier, train_state, 'val')\n",
        "print(\"Test Accuracy: {:.2f}\".format(train_state['val_acc']))\n",
        "print(pd.DataFrame(confusion_matrix(predicted, true), index=[\"AddToPlaylist\", \"BookRestaurant\", \"GetWeather\", \"PlayMusic\", \"RateBook\", \"SearchCreativeWork\", \"SearchScreeningEvent\"]))"
      ]
    },
    {
      "cell_type": "markdown",
      "metadata": {
        "id": "tGm1SE5ZqMis"
      },
      "source": [
        "### Evaluate performance on test data\n",
        "\n",
        "Once you are happy that model performance is as good as you can achieve with this model type you should evaluate its accuracy on the test data. You can also use the confusion matrix for error analysis in your write up."
      ]
    },
    {
      "cell_type": "code",
      "execution_count": 17,
      "metadata": {
        "id": "XF4udyBOqDgy",
        "outputId": "5aba8492-08c9-4d59-ec5a-c9a4ef607e5e",
        "colab": {
          "base_uri": "https://localhost:8080/"
        }
      },
      "outputs": [
        {
          "output_type": "stream",
          "name": "stdout",
          "text": [
            "Test Accuracy: 83.28\n",
            "                        0   1   2   3   4   5   6\n",
            "AddToPlaylist         103   1   1   2   1   3   1\n",
            "BookRestaurant          2  83   5   0   0   6   6\n",
            "GetWeather              1   0  86   1   1   2  11\n",
            "PlayMusic               4   2   0  74   1  14   5\n",
            "RateBook                1   0   0   2  67   8   4\n",
            "SearchCreativeWork      0   0   1   0   0  59  11\n",
            "SearchScreeningEvent    0   1   1   0   0   8  61\n"
          ]
        },
        {
          "output_type": "stream",
          "name": "stderr",
          "text": [
            "/content/nn_tools2.py:375: FutureWarning: You are using `torch.load` with `weights_only=False` (the current default value), which uses the default pickle module implicitly. It is possible to construct malicious pickle data which will execute arbitrary code during unpickling (See https://github.com/pytorch/pytorch/blob/main/SECURITY.md#untrusted-models for more details). In a future release, the default value for `weights_only` will be flipped to `True`. This limits the functions that could be executed during unpickling. Arbitrary objects will no longer be allowed to be loaded via this mode unless they are explicitly allowlisted by the user via `torch.serialization.add_safe_globals`. We recommend you start setting `weights_only=True` for any use case where you don't have full control of the loaded file. Please open an issue on GitHub for any issues related to this experimental feature.\n",
            "  classifier.load_state_dict(torch.load(train_state['model_filename']))\n"
          ]
        }
      ],
      "source": [
        "torch.manual_seed(0)\n",
        "predicted, true = evaluate(params, classifier, train_state, 'test')\n",
        "print(\"Test Accuracy: {:.2f}\".format(train_state['test_acc']))\n",
        "print(pd.DataFrame(confusion_matrix(predicted, true), index=[\"AddToPlaylist\", \"BookRestaurant\", \"GetWeather\", \"PlayMusic\", \"RateBook\", \"SearchCreativeWork\", \"SearchScreeningEvent\"]))"
      ]
    },
    {
      "cell_type": "markdown",
      "metadata": {
        "id": "NmJWrOFBvwJf"
      },
      "source": [
        "## Multilayer neural network classifier\n",
        "\n",
        "The third kind of classifier that you should build is a two-layer neural network. The model is defined below. Again you don't need to change this code."
      ]
    },
    {
      "cell_type": "code",
      "execution_count": 18,
      "metadata": {
        "id": "WUfDaievThXH"
      },
      "outputs": [],
      "source": [
        "class IntentClassifierMLP(nn.Module):\n",
        "    \"\"\" a simple perceptron based classifier \"\"\"\n",
        "    def __init__(self, input_dim, hidden_dim, output_dim):\n",
        "        \"\"\"\n",
        "        Args:\n",
        "            num_features (int): the size of the input feature vector\n",
        "        \"\"\"\n",
        "        super(IntentClassifierMLP, self).__init__()\n",
        "        self.fc1 = nn.Linear(input_dim, hidden_dim)\n",
        "        self.fc2 = nn.Linear(hidden_dim, output_dim)\n",
        "\n",
        "\n",
        "\n",
        "    def forward(self, x_in, apply_softmax=True):\n",
        "        \"\"\"The forward pass of the classifier\n",
        "\n",
        "        Args:\n",
        "            x_in (torch.Tensor): an input data tensor.\n",
        "                x_in.shape should be (batch, num_features)\n",
        "            apply_softmax (bool): a flag for the softmax activation\n",
        "        Returns:\n",
        "            the resulting tensor. tensor.shape should be (batch,)\n",
        "        \"\"\"\n",
        "        intermediate_vector = F.relu(self.fc1(x_in))\n",
        "        prediction_vector = self.fc2(intermediate_vector)\n",
        "\n",
        "        if apply_softmax:\n",
        "            prediction_vector = F.softmax(prediction_vector,dim=1)\n",
        "        return prediction_vector\n"
      ]
    },
    {
      "cell_type": "markdown",
      "metadata": {
        "id": "CZCtR8k29BV6"
      },
      "source": [
        "### Preprocessing\n",
        "As with the previous models, to increase the generalisability of your system you can preprocess the text to, for example, convert morphological variants to a single \"lemma\". You can do ths by adding different substitution (re.sub) functions to the function below. The function as is stands doesn't do anything - you need to update the re.sub statements.\n"
      ]
    },
    {
      "cell_type": "code",
      "execution_count": 42,
      "metadata": {
        "id": "KzvODPtSF9up"
      },
      "outputs": [],
      "source": [
        "def preprocess_utterance(utt):\n",
        "  utt = re.sub(\"(?<!s)s$\",\"\", utt) # Remove 's' at the end of word if not 'ss'\n",
        "  utt = re.sub(\"ed$\",\"\", utt)      # Remove past tense\n",
        "  utt = re.sub(\"ing$\",\"\", utt)     # Remove present progressive\n",
        "  utt = re.sub(\"er$\",\"\", utt)      # Remove comparative adjectives\n",
        "  utt = re.sub(\"est$\",\"\", utt)     # Remove superlative adjectives\n",
        "  return utt"
      ]
    },
    {
      "cell_type": "markdown",
      "metadata": {
        "id": "tGYR060QAdXF"
      },
      "source": [
        "For this machine-learning-based model we are going to make the preprocessing changes to the data use, and this will involve making changes to the file we have saved. When we need to revert to the original unaltered file, we can then run the following cell."
      ]
    },
    {
      "cell_type": "code",
      "execution_count": 19,
      "metadata": {
        "id": "HaMZzsyvAJyZ",
        "outputId": "550388e5-3e95-4b0c-ae4b-af61d39bba75",
        "colab": {
          "base_uri": "https://localhost:8080/"
        }
      },
      "outputs": [
        {
          "output_type": "stream",
          "name": "stdout",
          "text": [
            "--2025-03-10 15:28:21--  https://raw.githubusercontent.com/cbannard/compling24/refs/heads/main/Intent_Classification/intent_classification_with_splits.csv\n",
            "Resolving raw.githubusercontent.com (raw.githubusercontent.com)... 185.199.110.133, 185.199.109.133, 185.199.108.133, ...\n",
            "Connecting to raw.githubusercontent.com (raw.githubusercontent.com)|185.199.110.133|:443... connected.\n",
            "HTTP request sent, awaiting response... 200 OK\n",
            "Length: 139084 (136K) [text/plain]\n",
            "Saving to: ‘intent_classification_with_splits.csv’\n",
            "\n",
            "intent_classificati 100%[===================>] 135.82K  --.-KB/s    in 0.1s    \n",
            "\n",
            "2025-03-10 15:28:21 (1.33 MB/s) - ‘intent_classification_with_splits.csv’ saved [139084/139084]\n",
            "\n"
          ]
        }
      ],
      "source": [
        "!wget https://raw.githubusercontent.com/cbannard/compling24/refs/heads/main/Intent_Classification/intent_classification_with_splits.csv -O intent_classification_with_splits.csv\n",
        "!cp intent_classification_with_splits.csv /content/gdrive/My\\ Drive/Intent_Classification/\n",
        "intent_data=pd.read_csv('intent_classification_with_splits.csv')"
      ]
    },
    {
      "cell_type": "markdown",
      "metadata": {
        "id": "5KCskx_pBPn1"
      },
      "source": [
        "You can check that your preprocessing patterns are doing what we want by testing them on examples using the following cell"
      ]
    },
    {
      "cell_type": "code",
      "execution_count": null,
      "metadata": {
        "id": "TLqEVhjxBWsX"
      },
      "outputs": [],
      "source": [
        "test_input = input(\"Enter a utterance to test your preprocessing on: \")\n",
        "print(preprocess_utterance(test_input))\n"
      ]
    },
    {
      "cell_type": "markdown",
      "metadata": {
        "id": "JpfyaMF1A8ra"
      },
      "source": [
        "Once you are happy with your preprocessing you can then transform the text in the training, validation and test data using the following cell. This alters the data on the disk so if you want to undo any changes later you will have to revert to the original data (as described above)."
      ]
    },
    {
      "cell_type": "code",
      "execution_count": 20,
      "metadata": {
        "id": "WrK4_EBB9bf7"
      },
      "outputs": [],
      "source": [
        "intent_data=pd.read_csv('intent_classification_with_splits.csv')\n",
        "intent_data['text'] = [preprocess_utterance(item) for item in intent_data['text']]\n",
        "intent_data.to_csv('intent_classification_with_splits.csv', index=False)\n",
        "!cp intent_classification_with_splits.csv /content/gdrive/My\\ Drive/Intent_Classification/"
      ]
    },
    {
      "cell_type": "markdown",
      "metadata": {
        "id": "qUYKpA_k7j8B"
      },
      "source": [
        "### Training model\n",
        "You can now move on to training the model using your preprocessed data.\n",
        "\n",
        "One important variable that you can change is the number of nodes to include in your hidden layer. You can set this parameter in the cell below. The default is 100."
      ]
    },
    {
      "cell_type": "code",
      "execution_count": 47,
      "metadata": {
        "id": "I2IqgaF072Wl"
      },
      "outputs": [],
      "source": [
        "n_hidden_dims = 175"
      ]
    },
    {
      "cell_type": "markdown",
      "metadata": {
        "id": "oYEM37XU8BT3"
      },
      "source": [
        "You can then initialise and train the model by running the following cell."
      ]
    },
    {
      "cell_type": "code",
      "execution_count": 48,
      "metadata": {
        "id": "8XN0GKp9eoNY",
        "outputId": "f06bb160-58a9-4ecf-fc01-4d6ad1b83e0e",
        "colab": {
          "base_uri": "https://localhost:8080/",
          "height": 181,
          "referenced_widgets": [
            "3ae8b49510bd49689310875d7d509b66",
            "c16186c47c55453099b8c6984a278f6d",
            "65f3b583678f4115af7131cece18d2af",
            "15674164f4e64bbfbfc733ebd89c8a8f",
            "fed8f5657f0f4657bd54e404adf5e186",
            "c3b6d04de0a349ae8ddd2dba88753392",
            "9b21b55e5118487596d10a283d47d599",
            "7b3d7db537604cf999c96f4dd4559045",
            "a2167824910a41c49720042a2aeb4a66",
            "929aed640b93459db0f92705c1f1e84c",
            "e05b37e8d4db4b7ea31413cfa3d2dcf5",
            "cf712a2c6b554a7db782be07418392aa",
            "2bcf4f99012d4451b9707c9c851aaa4e",
            "de72dcb11fea4512b786d35cdae6ee11",
            "25b7e46ac5234828ad1bc8738efd4672",
            "502100a12c654e83aeca40210f1ddce1",
            "82a1475bdc50431f987282f82b6bab55",
            "5a85d76a6ce646399fda21689439c400",
            "efb322400ca74f02bb6bad2d62e11208",
            "467e08844e0e4a408ac71d978cfec946",
            "ff6f22e7cca64fa7a22cb1e870bd4df8",
            "534ff002042540cfbe8f21e156d83a61",
            "cf3bc1d867984bff985569e47e3a241e",
            "569d84ebbeeb4e73bff355ec18f58e3f",
            "5a47af4565d94375be41881206ebc89f",
            "cfd9bbdb69f64d278b178fac6951baee",
            "0fbf8a450e45427c941d91e26b6a797e",
            "e0f0de9919bc4b169b20ccfc09899624",
            "b52767f2f5af491d94f89ba9f60f03a0",
            "552a687fc2804c9498cf971e968c56bf",
            "a9cf5a06142043508a85a9d3aa6327c8",
            "40d8b2326fc9402f9773787c13047484",
            "43584993e4f94cda92f5ba55822b0509"
          ]
        }
      },
      "outputs": [
        {
          "output_type": "stream",
          "name": "stdout",
          "text": [
            "Expanded filepaths: \n",
            "\t/content/gdrive/My Drive/Intent_Classification/vectorizer.json\n",
            "\t/content/gdrive/My Drive/Intent_Classification/model.pth\n",
            "Using CUDA: False\n"
          ]
        },
        {
          "output_type": "display_data",
          "data": {
            "text/plain": [
              "training routine:   0%|          | 0/100 [00:00<?, ?it/s]"
            ],
            "application/vnd.jupyter.widget-view+json": {
              "version_major": 2,
              "version_minor": 0,
              "model_id": "3ae8b49510bd49689310875d7d509b66"
            }
          },
          "metadata": {}
        },
        {
          "output_type": "display_data",
          "data": {
            "text/plain": [
              "split=train:   0%|          | 0/5 [00:00<?, ?it/s]"
            ],
            "application/vnd.jupyter.widget-view+json": {
              "version_major": 2,
              "version_minor": 0,
              "model_id": "cf712a2c6b554a7db782be07418392aa"
            }
          },
          "metadata": {}
        },
        {
          "output_type": "display_data",
          "data": {
            "text/plain": [
              "split=val:   0%|          | 0/5 [00:00<?, ?it/s]"
            ],
            "application/vnd.jupyter.widget-view+json": {
              "version_major": 2,
              "version_minor": 0,
              "model_id": "cf3bc1d867984bff985569e47e3a241e"
            }
          },
          "metadata": {}
        }
      ],
      "source": [
        "params = initialise()\n",
        "classifier = IntentClassifierMLP(input_dim=len(params.vectorizer.text_vocab),hidden_dim=n_hidden_dims,output_dim=len(params.vectorizer.intent_vocab))\n",
        "train_state = trainModel(params, params.dataset, classifier)"
      ]
    },
    {
      "cell_type": "markdown",
      "metadata": {
        "id": "RZwwWsWk8oks"
      },
      "source": [
        "The following cell allows you to look at the performance of the system on a single example utterance. This can be used to see whether your preprocessing (and/or your choice of hidden dimensions) is capturing the cases you hoped."
      ]
    },
    {
      "cell_type": "code",
      "execution_count": 56,
      "metadata": {
        "id": "lED2pnPpLDpj",
        "outputId": "7bb45a76-2f03-4b4d-8b99-f8b06f03e262",
        "colab": {
          "base_uri": "https://localhost:8080/"
        }
      },
      "outputs": [
        {
          "output_type": "stream",
          "name": "stdout",
          "text": [
            "Enter a utterance to classify: what's on nearby\n",
            "what's on nearby -> PlayMusic (p=0.66)\n"
          ]
        }
      ],
      "source": [
        "torch.manual_seed(0)\n",
        "new_utterance = input(\"Enter a utterance to classify: \")\n",
        "classifier = classifier.to(\"cpu\")\n",
        "prediction = predict_intent(preprocess_utterance(new_utterance), classifier, params.vectorizer)\n",
        "print(\"{} -> {} (p={:0.2f})\".format(new_utterance,\n",
        "                                    prediction['intent'],\n",
        "                                    prediction['probability']))"
      ]
    },
    {
      "cell_type": "markdown",
      "metadata": {
        "id": "H9tEyVp9qv2F"
      },
      "source": [
        "### Evaluate model on validation data\n",
        "\n",
        "In order to evaluate the performance of your system while you tweak it you can evaluate performance on the validation data, and look at a confusion matrix."
      ]
    },
    {
      "cell_type": "code",
      "execution_count": 49,
      "metadata": {
        "id": "P6y-UHQVquba",
        "outputId": "aeb3d551-0c25-4d50-ef0d-25d5a5af25b1",
        "colab": {
          "base_uri": "https://localhost:8080/"
        }
      },
      "outputs": [
        {
          "output_type": "stream",
          "name": "stdout",
          "text": [
            "Test Accuracy: 90.78\n",
            "                       0   1   2   3   4   5   6\n",
            "AddToPlaylist         84   0   0   0   0   0   0\n",
            "BookRestaurant         0  95   1   2   1   1   6\n",
            "GetWeather             1   1  86   0   0   3   6\n",
            "PlayMusic              1   0   1  80   0   3   0\n",
            "RateBook               0   0   0   0  94   0   1\n",
            "SearchCreativeWork     1   0   1   1   0  82  13\n",
            "SearchScreeningEvent   0   1   8   1   0   5  60\n"
          ]
        },
        {
          "output_type": "stream",
          "name": "stderr",
          "text": [
            "/content/nn_tools2.py:375: FutureWarning: You are using `torch.load` with `weights_only=False` (the current default value), which uses the default pickle module implicitly. It is possible to construct malicious pickle data which will execute arbitrary code during unpickling (See https://github.com/pytorch/pytorch/blob/main/SECURITY.md#untrusted-models for more details). In a future release, the default value for `weights_only` will be flipped to `True`. This limits the functions that could be executed during unpickling. Arbitrary objects will no longer be allowed to be loaded via this mode unless they are explicitly allowlisted by the user via `torch.serialization.add_safe_globals`. We recommend you start setting `weights_only=True` for any use case where you don't have full control of the loaded file. Please open an issue on GitHub for any issues related to this experimental feature.\n",
            "  classifier.load_state_dict(torch.load(train_state['model_filename']))\n"
          ]
        }
      ],
      "source": [
        "torch.manual_seed(0)\n",
        "predicted, true = evaluate(params, classifier, train_state, 'val')\n",
        "print(\"Test Accuracy: {:.2f}\".format(train_state['val_acc']))\n",
        "print(pd.DataFrame(confusion_matrix(predicted, true), index=[\"AddToPlaylist\", \"BookRestaurant\", \"GetWeather\", \"PlayMusic\", \"RateBook\", \"SearchCreativeWork\", \"SearchScreeningEvent\"]))"
      ]
    },
    {
      "cell_type": "markdown",
      "metadata": {
        "id": "6WQeZtjvq1gc"
      },
      "source": [
        "### Evaluate model on test data\n",
        "\n",
        "Once you are happy that model performance is as good as you can achieve with this model type you should evaluate its accuracy on the test data. You can also use the confusion matrix for error analysis in your write up."
      ]
    },
    {
      "cell_type": "code",
      "execution_count": 57,
      "metadata": {
        "id": "x-EvHcvIqu6y",
        "outputId": "2e288ac1-20d6-467f-9dff-1fe1c6dbb0eb",
        "colab": {
          "base_uri": "https://localhost:8080/"
        }
      },
      "outputs": [
        {
          "output_type": "stream",
          "name": "stdout",
          "text": [
            "Test Accuracy: 89.06\n",
            "                        0   1   2   3   4   5   6\n",
            "AddToPlaylist         104   0   0   1   0   0   1\n",
            "BookRestaurant          0  80   1   0   0   2   0\n",
            "GetWeather              1   3  89   0   1   0   1\n",
            "PlayMusic               3   1   0  75   2  11   0\n",
            "RateBook                0   0   0   0  67   1   1\n",
            "SearchCreativeWork      3   2   1   2   0  77  18\n",
            "SearchScreeningEvent    0   1   3   1   0   9  78\n"
          ]
        },
        {
          "output_type": "stream",
          "name": "stderr",
          "text": [
            "/content/nn_tools2.py:375: FutureWarning: You are using `torch.load` with `weights_only=False` (the current default value), which uses the default pickle module implicitly. It is possible to construct malicious pickle data which will execute arbitrary code during unpickling (See https://github.com/pytorch/pytorch/blob/main/SECURITY.md#untrusted-models for more details). In a future release, the default value for `weights_only` will be flipped to `True`. This limits the functions that could be executed during unpickling. Arbitrary objects will no longer be allowed to be loaded via this mode unless they are explicitly allowlisted by the user via `torch.serialization.add_safe_globals`. We recommend you start setting `weights_only=True` for any use case where you don't have full control of the loaded file. Please open an issue on GitHub for any issues related to this experimental feature.\n",
            "  classifier.load_state_dict(torch.load(train_state['model_filename']))\n"
          ]
        }
      ],
      "source": [
        "torch.manual_seed(0)\n",
        "predicted, true = evaluate(params, classifier, train_state, 'test')\n",
        "print(\"Test Accuracy: {:.2f}\".format(train_state['test_acc']))\n",
        "print(pd.DataFrame(confusion_matrix(predicted, true), index=[\"AddToPlaylist\", \"BookRestaurant\", \"GetWeather\", \"PlayMusic\", \"RateBook\", \"SearchCreativeWork\", \"SearchScreeningEvent\"]))"
      ]
    },
    {
      "cell_type": "markdown",
      "metadata": {
        "id": "uivLXlpkzF-c"
      },
      "source": [
        "## That's it!\n",
        "\n",
        "Once you have run through all of this notebook, made all of the additions and changes you want, and run all of the experiments you want you should write up the results following the guidance [here]( https://www.dropbox.com/s/zlmbk60a4ei1jdh/Writing%20your%20Computational%20Linguistics%20Research%20Report.docx)\n",
        "\n",
        "Your report should be submitted via turnitin using the link on Blackboard.\n",
        "\n",
        "To repeat a couple of things from the top of the sheet:\n",
        "\n",
        "- Once you have completed your work in this notebook please create a PDF including all of your changes and include it in your submission. This is just so that I can check what you have done if it isn't clear from your report. You will not be marked on the quality of any code you might include.\n",
        "\n",
        "- Please feel free to ask any questions about any part of the coursework. So that my response can benefit everyone please do so using the Coursework Discussion board on Blackboard. You can find a link to this down the left of the module Blackboard page.\n",
        "\n",
        "I hope you find it an enjoyable and worthwhile exercise.\n"
      ]
    }
  ],
  "metadata": {
    "colab": {
      "provenance": []
    },
    "kernelspec": {
      "display_name": "Python 3 (ipykernel)",
      "language": "python",
      "name": "python3"
    },
    "language_info": {
      "codemirror_mode": {
        "name": "ipython",
        "version": 3
      },
      "file_extension": ".py",
      "mimetype": "text/x-python",
      "name": "python",
      "nbconvert_exporter": "python",
      "pygments_lexer": "ipython3",
      "version": "3.8.12"
    },
    "widgets": {
      "application/vnd.jupyter.widget-state+json": {
        "e25457c399424bda9b96cf9a5e7d1853": {
          "model_module": "@jupyter-widgets/controls",
          "model_name": "HBoxModel",
          "model_module_version": "1.5.0",
          "state": {
            "_dom_classes": [],
            "_model_module": "@jupyter-widgets/controls",
            "_model_module_version": "1.5.0",
            "_model_name": "HBoxModel",
            "_view_count": null,
            "_view_module": "@jupyter-widgets/controls",
            "_view_module_version": "1.5.0",
            "_view_name": "HBoxView",
            "box_style": "",
            "children": [
              "IPY_MODEL_fd12b65f5a27428c9c6162610b076f76",
              "IPY_MODEL_aef57c13082e42e68f3e8075a9c4a4aa",
              "IPY_MODEL_30006076e782456c822571ca1e6e29b3"
            ],
            "layout": "IPY_MODEL_ed58f047448e48f0ad06d69e9291cb51"
          }
        },
        "fd12b65f5a27428c9c6162610b076f76": {
          "model_module": "@jupyter-widgets/controls",
          "model_name": "HTMLModel",
          "model_module_version": "1.5.0",
          "state": {
            "_dom_classes": [],
            "_model_module": "@jupyter-widgets/controls",
            "_model_module_version": "1.5.0",
            "_model_name": "HTMLModel",
            "_view_count": null,
            "_view_module": "@jupyter-widgets/controls",
            "_view_module_version": "1.5.0",
            "_view_name": "HTMLView",
            "description": "",
            "description_tooltip": null,
            "layout": "IPY_MODEL_326f2698ddfd4cb497817e75526c7c95",
            "placeholder": "​",
            "style": "IPY_MODEL_ab960a00eca24bedaff644820ed8c5a0",
            "value": "training routine: "
          }
        },
        "aef57c13082e42e68f3e8075a9c4a4aa": {
          "model_module": "@jupyter-widgets/controls",
          "model_name": "FloatProgressModel",
          "model_module_version": "1.5.0",
          "state": {
            "_dom_classes": [],
            "_model_module": "@jupyter-widgets/controls",
            "_model_module_version": "1.5.0",
            "_model_name": "FloatProgressModel",
            "_view_count": null,
            "_view_module": "@jupyter-widgets/controls",
            "_view_module_version": "1.5.0",
            "_view_name": "ProgressView",
            "bar_style": "success",
            "description": "",
            "description_tooltip": null,
            "layout": "IPY_MODEL_87027e6a7d1f486fa66fb93a3c68916e",
            "max": 100,
            "min": 0,
            "orientation": "horizontal",
            "style": "IPY_MODEL_b2e18f8f760f4ccba9deb237aa6851e9",
            "value": 100
          }
        },
        "30006076e782456c822571ca1e6e29b3": {
          "model_module": "@jupyter-widgets/controls",
          "model_name": "HTMLModel",
          "model_module_version": "1.5.0",
          "state": {
            "_dom_classes": [],
            "_model_module": "@jupyter-widgets/controls",
            "_model_module_version": "1.5.0",
            "_model_name": "HTMLModel",
            "_view_count": null,
            "_view_module": "@jupyter-widgets/controls",
            "_view_module_version": "1.5.0",
            "_view_name": "HTMLView",
            "description": "",
            "description_tooltip": null,
            "layout": "IPY_MODEL_f64c7ff0e0e94213849f3849c7d197ad",
            "placeholder": "​",
            "style": "IPY_MODEL_f1caaf58bf744101903f6a87a1925a3a",
            "value": " 200/? [02:41&lt;00:00, 17.01it/s]"
          }
        },
        "ed58f047448e48f0ad06d69e9291cb51": {
          "model_module": "@jupyter-widgets/base",
          "model_name": "LayoutModel",
          "model_module_version": "1.2.0",
          "state": {
            "_model_module": "@jupyter-widgets/base",
            "_model_module_version": "1.2.0",
            "_model_name": "LayoutModel",
            "_view_count": null,
            "_view_module": "@jupyter-widgets/base",
            "_view_module_version": "1.2.0",
            "_view_name": "LayoutView",
            "align_content": null,
            "align_items": null,
            "align_self": null,
            "border": null,
            "bottom": null,
            "display": null,
            "flex": null,
            "flex_flow": null,
            "grid_area": null,
            "grid_auto_columns": null,
            "grid_auto_flow": null,
            "grid_auto_rows": null,
            "grid_column": null,
            "grid_gap": null,
            "grid_row": null,
            "grid_template_areas": null,
            "grid_template_columns": null,
            "grid_template_rows": null,
            "height": null,
            "justify_content": null,
            "justify_items": null,
            "left": null,
            "margin": null,
            "max_height": null,
            "max_width": null,
            "min_height": null,
            "min_width": null,
            "object_fit": null,
            "object_position": null,
            "order": null,
            "overflow": null,
            "overflow_x": null,
            "overflow_y": null,
            "padding": null,
            "right": null,
            "top": null,
            "visibility": null,
            "width": null
          }
        },
        "326f2698ddfd4cb497817e75526c7c95": {
          "model_module": "@jupyter-widgets/base",
          "model_name": "LayoutModel",
          "model_module_version": "1.2.0",
          "state": {
            "_model_module": "@jupyter-widgets/base",
            "_model_module_version": "1.2.0",
            "_model_name": "LayoutModel",
            "_view_count": null,
            "_view_module": "@jupyter-widgets/base",
            "_view_module_version": "1.2.0",
            "_view_name": "LayoutView",
            "align_content": null,
            "align_items": null,
            "align_self": null,
            "border": null,
            "bottom": null,
            "display": null,
            "flex": null,
            "flex_flow": null,
            "grid_area": null,
            "grid_auto_columns": null,
            "grid_auto_flow": null,
            "grid_auto_rows": null,
            "grid_column": null,
            "grid_gap": null,
            "grid_row": null,
            "grid_template_areas": null,
            "grid_template_columns": null,
            "grid_template_rows": null,
            "height": null,
            "justify_content": null,
            "justify_items": null,
            "left": null,
            "margin": null,
            "max_height": null,
            "max_width": null,
            "min_height": null,
            "min_width": null,
            "object_fit": null,
            "object_position": null,
            "order": null,
            "overflow": null,
            "overflow_x": null,
            "overflow_y": null,
            "padding": null,
            "right": null,
            "top": null,
            "visibility": null,
            "width": null
          }
        },
        "ab960a00eca24bedaff644820ed8c5a0": {
          "model_module": "@jupyter-widgets/controls",
          "model_name": "DescriptionStyleModel",
          "model_module_version": "1.5.0",
          "state": {
            "_model_module": "@jupyter-widgets/controls",
            "_model_module_version": "1.5.0",
            "_model_name": "DescriptionStyleModel",
            "_view_count": null,
            "_view_module": "@jupyter-widgets/base",
            "_view_module_version": "1.2.0",
            "_view_name": "StyleView",
            "description_width": ""
          }
        },
        "87027e6a7d1f486fa66fb93a3c68916e": {
          "model_module": "@jupyter-widgets/base",
          "model_name": "LayoutModel",
          "model_module_version": "1.2.0",
          "state": {
            "_model_module": "@jupyter-widgets/base",
            "_model_module_version": "1.2.0",
            "_model_name": "LayoutModel",
            "_view_count": null,
            "_view_module": "@jupyter-widgets/base",
            "_view_module_version": "1.2.0",
            "_view_name": "LayoutView",
            "align_content": null,
            "align_items": null,
            "align_self": null,
            "border": null,
            "bottom": null,
            "display": null,
            "flex": null,
            "flex_flow": null,
            "grid_area": null,
            "grid_auto_columns": null,
            "grid_auto_flow": null,
            "grid_auto_rows": null,
            "grid_column": null,
            "grid_gap": null,
            "grid_row": null,
            "grid_template_areas": null,
            "grid_template_columns": null,
            "grid_template_rows": null,
            "height": null,
            "justify_content": null,
            "justify_items": null,
            "left": null,
            "margin": null,
            "max_height": null,
            "max_width": null,
            "min_height": null,
            "min_width": null,
            "object_fit": null,
            "object_position": null,
            "order": null,
            "overflow": null,
            "overflow_x": null,
            "overflow_y": null,
            "padding": null,
            "right": null,
            "top": null,
            "visibility": null,
            "width": null
          }
        },
        "b2e18f8f760f4ccba9deb237aa6851e9": {
          "model_module": "@jupyter-widgets/controls",
          "model_name": "ProgressStyleModel",
          "model_module_version": "1.5.0",
          "state": {
            "_model_module": "@jupyter-widgets/controls",
            "_model_module_version": "1.5.0",
            "_model_name": "ProgressStyleModel",
            "_view_count": null,
            "_view_module": "@jupyter-widgets/base",
            "_view_module_version": "1.2.0",
            "_view_name": "StyleView",
            "bar_color": null,
            "description_width": ""
          }
        },
        "f64c7ff0e0e94213849f3849c7d197ad": {
          "model_module": "@jupyter-widgets/base",
          "model_name": "LayoutModel",
          "model_module_version": "1.2.0",
          "state": {
            "_model_module": "@jupyter-widgets/base",
            "_model_module_version": "1.2.0",
            "_model_name": "LayoutModel",
            "_view_count": null,
            "_view_module": "@jupyter-widgets/base",
            "_view_module_version": "1.2.0",
            "_view_name": "LayoutView",
            "align_content": null,
            "align_items": null,
            "align_self": null,
            "border": null,
            "bottom": null,
            "display": null,
            "flex": null,
            "flex_flow": null,
            "grid_area": null,
            "grid_auto_columns": null,
            "grid_auto_flow": null,
            "grid_auto_rows": null,
            "grid_column": null,
            "grid_gap": null,
            "grid_row": null,
            "grid_template_areas": null,
            "grid_template_columns": null,
            "grid_template_rows": null,
            "height": null,
            "justify_content": null,
            "justify_items": null,
            "left": null,
            "margin": null,
            "max_height": null,
            "max_width": null,
            "min_height": null,
            "min_width": null,
            "object_fit": null,
            "object_position": null,
            "order": null,
            "overflow": null,
            "overflow_x": null,
            "overflow_y": null,
            "padding": null,
            "right": null,
            "top": null,
            "visibility": null,
            "width": null
          }
        },
        "f1caaf58bf744101903f6a87a1925a3a": {
          "model_module": "@jupyter-widgets/controls",
          "model_name": "DescriptionStyleModel",
          "model_module_version": "1.5.0",
          "state": {
            "_model_module": "@jupyter-widgets/controls",
            "_model_module_version": "1.5.0",
            "_model_name": "DescriptionStyleModel",
            "_view_count": null,
            "_view_module": "@jupyter-widgets/base",
            "_view_module_version": "1.2.0",
            "_view_name": "StyleView",
            "description_width": ""
          }
        },
        "c0adc74459ca49eab3ad38e180ee90ca": {
          "model_module": "@jupyter-widgets/controls",
          "model_name": "HBoxModel",
          "model_module_version": "1.5.0",
          "state": {
            "_dom_classes": [],
            "_model_module": "@jupyter-widgets/controls",
            "_model_module_version": "1.5.0",
            "_model_name": "HBoxModel",
            "_view_count": null,
            "_view_module": "@jupyter-widgets/controls",
            "_view_module_version": "1.5.0",
            "_view_name": "HBoxView",
            "box_style": "",
            "children": [
              "IPY_MODEL_7c8ba08955884d9fba44c40897194dfc",
              "IPY_MODEL_3aae0cb322c94c25ba2d522f09a0b99d",
              "IPY_MODEL_b2d4ca7cee31449d8b8a4f551951c7d7"
            ],
            "layout": "IPY_MODEL_2a915f2e29b240469c5c8a40dd4f8b12"
          }
        },
        "7c8ba08955884d9fba44c40897194dfc": {
          "model_module": "@jupyter-widgets/controls",
          "model_name": "HTMLModel",
          "model_module_version": "1.5.0",
          "state": {
            "_dom_classes": [],
            "_model_module": "@jupyter-widgets/controls",
            "_model_module_version": "1.5.0",
            "_model_name": "HTMLModel",
            "_view_count": null,
            "_view_module": "@jupyter-widgets/controls",
            "_view_module_version": "1.5.0",
            "_view_name": "HTMLView",
            "description": "",
            "description_tooltip": null,
            "layout": "IPY_MODEL_63bc8f79ff2b49ff91a7f00dbac24fbb",
            "placeholder": "​",
            "style": "IPY_MODEL_0eb5d087fe9c483d9c62e38c8cc22c7a",
            "value": "split=train:   0%"
          }
        },
        "3aae0cb322c94c25ba2d522f09a0b99d": {
          "model_module": "@jupyter-widgets/controls",
          "model_name": "FloatProgressModel",
          "model_module_version": "1.5.0",
          "state": {
            "_dom_classes": [],
            "_model_module": "@jupyter-widgets/controls",
            "_model_module_version": "1.5.0",
            "_model_name": "FloatProgressModel",
            "_view_count": null,
            "_view_module": "@jupyter-widgets/controls",
            "_view_module_version": "1.5.0",
            "_view_name": "ProgressView",
            "bar_style": "danger",
            "description": "",
            "description_tooltip": null,
            "layout": "IPY_MODEL_6d684b26a0b241f5b19246689aed3137",
            "max": 5,
            "min": 0,
            "orientation": "horizontal",
            "style": "IPY_MODEL_4898a14788134addac52e2857000b437",
            "value": 0
          }
        },
        "b2d4ca7cee31449d8b8a4f551951c7d7": {
          "model_module": "@jupyter-widgets/controls",
          "model_name": "HTMLModel",
          "model_module_version": "1.5.0",
          "state": {
            "_dom_classes": [],
            "_model_module": "@jupyter-widgets/controls",
            "_model_module_version": "1.5.0",
            "_model_name": "HTMLModel",
            "_view_count": null,
            "_view_module": "@jupyter-widgets/controls",
            "_view_module_version": "1.5.0",
            "_view_name": "HTMLView",
            "description": "",
            "description_tooltip": null,
            "layout": "IPY_MODEL_00a92b9b82c2494db31a8ac2ba263475",
            "placeholder": "​",
            "style": "IPY_MODEL_360e6baf9dc947949ebb73fa9f43ac49",
            "value": " 0/5 [02:41&lt;00:00,  6.90it/s, acc=88.9, epoch=99, loss=1.53]"
          }
        },
        "2a915f2e29b240469c5c8a40dd4f8b12": {
          "model_module": "@jupyter-widgets/base",
          "model_name": "LayoutModel",
          "model_module_version": "1.2.0",
          "state": {
            "_model_module": "@jupyter-widgets/base",
            "_model_module_version": "1.2.0",
            "_model_name": "LayoutModel",
            "_view_count": null,
            "_view_module": "@jupyter-widgets/base",
            "_view_module_version": "1.2.0",
            "_view_name": "LayoutView",
            "align_content": null,
            "align_items": null,
            "align_self": null,
            "border": null,
            "bottom": null,
            "display": null,
            "flex": null,
            "flex_flow": null,
            "grid_area": null,
            "grid_auto_columns": null,
            "grid_auto_flow": null,
            "grid_auto_rows": null,
            "grid_column": null,
            "grid_gap": null,
            "grid_row": null,
            "grid_template_areas": null,
            "grid_template_columns": null,
            "grid_template_rows": null,
            "height": null,
            "justify_content": null,
            "justify_items": null,
            "left": null,
            "margin": null,
            "max_height": null,
            "max_width": null,
            "min_height": null,
            "min_width": null,
            "object_fit": null,
            "object_position": null,
            "order": null,
            "overflow": null,
            "overflow_x": null,
            "overflow_y": null,
            "padding": null,
            "right": null,
            "top": null,
            "visibility": null,
            "width": null
          }
        },
        "63bc8f79ff2b49ff91a7f00dbac24fbb": {
          "model_module": "@jupyter-widgets/base",
          "model_name": "LayoutModel",
          "model_module_version": "1.2.0",
          "state": {
            "_model_module": "@jupyter-widgets/base",
            "_model_module_version": "1.2.0",
            "_model_name": "LayoutModel",
            "_view_count": null,
            "_view_module": "@jupyter-widgets/base",
            "_view_module_version": "1.2.0",
            "_view_name": "LayoutView",
            "align_content": null,
            "align_items": null,
            "align_self": null,
            "border": null,
            "bottom": null,
            "display": null,
            "flex": null,
            "flex_flow": null,
            "grid_area": null,
            "grid_auto_columns": null,
            "grid_auto_flow": null,
            "grid_auto_rows": null,
            "grid_column": null,
            "grid_gap": null,
            "grid_row": null,
            "grid_template_areas": null,
            "grid_template_columns": null,
            "grid_template_rows": null,
            "height": null,
            "justify_content": null,
            "justify_items": null,
            "left": null,
            "margin": null,
            "max_height": null,
            "max_width": null,
            "min_height": null,
            "min_width": null,
            "object_fit": null,
            "object_position": null,
            "order": null,
            "overflow": null,
            "overflow_x": null,
            "overflow_y": null,
            "padding": null,
            "right": null,
            "top": null,
            "visibility": null,
            "width": null
          }
        },
        "0eb5d087fe9c483d9c62e38c8cc22c7a": {
          "model_module": "@jupyter-widgets/controls",
          "model_name": "DescriptionStyleModel",
          "model_module_version": "1.5.0",
          "state": {
            "_model_module": "@jupyter-widgets/controls",
            "_model_module_version": "1.5.0",
            "_model_name": "DescriptionStyleModel",
            "_view_count": null,
            "_view_module": "@jupyter-widgets/base",
            "_view_module_version": "1.2.0",
            "_view_name": "StyleView",
            "description_width": ""
          }
        },
        "6d684b26a0b241f5b19246689aed3137": {
          "model_module": "@jupyter-widgets/base",
          "model_name": "LayoutModel",
          "model_module_version": "1.2.0",
          "state": {
            "_model_module": "@jupyter-widgets/base",
            "_model_module_version": "1.2.0",
            "_model_name": "LayoutModel",
            "_view_count": null,
            "_view_module": "@jupyter-widgets/base",
            "_view_module_version": "1.2.0",
            "_view_name": "LayoutView",
            "align_content": null,
            "align_items": null,
            "align_self": null,
            "border": null,
            "bottom": null,
            "display": null,
            "flex": null,
            "flex_flow": null,
            "grid_area": null,
            "grid_auto_columns": null,
            "grid_auto_flow": null,
            "grid_auto_rows": null,
            "grid_column": null,
            "grid_gap": null,
            "grid_row": null,
            "grid_template_areas": null,
            "grid_template_columns": null,
            "grid_template_rows": null,
            "height": null,
            "justify_content": null,
            "justify_items": null,
            "left": null,
            "margin": null,
            "max_height": null,
            "max_width": null,
            "min_height": null,
            "min_width": null,
            "object_fit": null,
            "object_position": null,
            "order": null,
            "overflow": null,
            "overflow_x": null,
            "overflow_y": null,
            "padding": null,
            "right": null,
            "top": null,
            "visibility": null,
            "width": null
          }
        },
        "4898a14788134addac52e2857000b437": {
          "model_module": "@jupyter-widgets/controls",
          "model_name": "ProgressStyleModel",
          "model_module_version": "1.5.0",
          "state": {
            "_model_module": "@jupyter-widgets/controls",
            "_model_module_version": "1.5.0",
            "_model_name": "ProgressStyleModel",
            "_view_count": null,
            "_view_module": "@jupyter-widgets/base",
            "_view_module_version": "1.2.0",
            "_view_name": "StyleView",
            "bar_color": null,
            "description_width": ""
          }
        },
        "00a92b9b82c2494db31a8ac2ba263475": {
          "model_module": "@jupyter-widgets/base",
          "model_name": "LayoutModel",
          "model_module_version": "1.2.0",
          "state": {
            "_model_module": "@jupyter-widgets/base",
            "_model_module_version": "1.2.0",
            "_model_name": "LayoutModel",
            "_view_count": null,
            "_view_module": "@jupyter-widgets/base",
            "_view_module_version": "1.2.0",
            "_view_name": "LayoutView",
            "align_content": null,
            "align_items": null,
            "align_self": null,
            "border": null,
            "bottom": null,
            "display": null,
            "flex": null,
            "flex_flow": null,
            "grid_area": null,
            "grid_auto_columns": null,
            "grid_auto_flow": null,
            "grid_auto_rows": null,
            "grid_column": null,
            "grid_gap": null,
            "grid_row": null,
            "grid_template_areas": null,
            "grid_template_columns": null,
            "grid_template_rows": null,
            "height": null,
            "justify_content": null,
            "justify_items": null,
            "left": null,
            "margin": null,
            "max_height": null,
            "max_width": null,
            "min_height": null,
            "min_width": null,
            "object_fit": null,
            "object_position": null,
            "order": null,
            "overflow": null,
            "overflow_x": null,
            "overflow_y": null,
            "padding": null,
            "right": null,
            "top": null,
            "visibility": null,
            "width": null
          }
        },
        "360e6baf9dc947949ebb73fa9f43ac49": {
          "model_module": "@jupyter-widgets/controls",
          "model_name": "DescriptionStyleModel",
          "model_module_version": "1.5.0",
          "state": {
            "_model_module": "@jupyter-widgets/controls",
            "_model_module_version": "1.5.0",
            "_model_name": "DescriptionStyleModel",
            "_view_count": null,
            "_view_module": "@jupyter-widgets/base",
            "_view_module_version": "1.2.0",
            "_view_name": "StyleView",
            "description_width": ""
          }
        },
        "4932b774cf9345deac6b8df2df9ed04b": {
          "model_module": "@jupyter-widgets/controls",
          "model_name": "HBoxModel",
          "model_module_version": "1.5.0",
          "state": {
            "_dom_classes": [],
            "_model_module": "@jupyter-widgets/controls",
            "_model_module_version": "1.5.0",
            "_model_name": "HBoxModel",
            "_view_count": null,
            "_view_module": "@jupyter-widgets/controls",
            "_view_module_version": "1.5.0",
            "_view_name": "HBoxView",
            "box_style": "",
            "children": [
              "IPY_MODEL_6be505a9af3b478e851aa57baba06aea",
              "IPY_MODEL_6a1bbb6d97bd4c09b162a97f5136319f",
              "IPY_MODEL_e3568282e364460ab0dd3bbc0f9babdc"
            ],
            "layout": "IPY_MODEL_f7ba2f7904eb41669acd7c6139cbaaf7"
          }
        },
        "6be505a9af3b478e851aa57baba06aea": {
          "model_module": "@jupyter-widgets/controls",
          "model_name": "HTMLModel",
          "model_module_version": "1.5.0",
          "state": {
            "_dom_classes": [],
            "_model_module": "@jupyter-widgets/controls",
            "_model_module_version": "1.5.0",
            "_model_name": "HTMLModel",
            "_view_count": null,
            "_view_module": "@jupyter-widgets/controls",
            "_view_module_version": "1.5.0",
            "_view_name": "HTMLView",
            "description": "",
            "description_tooltip": null,
            "layout": "IPY_MODEL_54cab53b9351481fa00bee7b1ae7f105",
            "placeholder": "​",
            "style": "IPY_MODEL_1275a12b21b24a9c83ab4a8b87bdf6cb",
            "value": "split=val:   0%"
          }
        },
        "6a1bbb6d97bd4c09b162a97f5136319f": {
          "model_module": "@jupyter-widgets/controls",
          "model_name": "FloatProgressModel",
          "model_module_version": "1.5.0",
          "state": {
            "_dom_classes": [],
            "_model_module": "@jupyter-widgets/controls",
            "_model_module_version": "1.5.0",
            "_model_name": "FloatProgressModel",
            "_view_count": null,
            "_view_module": "@jupyter-widgets/controls",
            "_view_module_version": "1.5.0",
            "_view_name": "ProgressView",
            "bar_style": "danger",
            "description": "",
            "description_tooltip": null,
            "layout": "IPY_MODEL_e390ffb9cc8b48a08419077b4e8e560d",
            "max": 5,
            "min": 0,
            "orientation": "horizontal",
            "style": "IPY_MODEL_8efa39aeb66145c58a8c0d6de8d45c75",
            "value": 0
          }
        },
        "e3568282e364460ab0dd3bbc0f9babdc": {
          "model_module": "@jupyter-widgets/controls",
          "model_name": "HTMLModel",
          "model_module_version": "1.5.0",
          "state": {
            "_dom_classes": [],
            "_model_module": "@jupyter-widgets/controls",
            "_model_module_version": "1.5.0",
            "_model_name": "HTMLModel",
            "_view_count": null,
            "_view_module": "@jupyter-widgets/controls",
            "_view_module_version": "1.5.0",
            "_view_name": "HTMLView",
            "description": "",
            "description_tooltip": null,
            "layout": "IPY_MODEL_25e622b0b30a4311b6054f5505027831",
            "placeholder": "​",
            "style": "IPY_MODEL_d88d65dc418f4dc3a4372b3683dc1439",
            "value": " 0/5 [02:41&lt;00:00,  6.68it/s, acc=85.3, epoch=99, loss=1.55]"
          }
        },
        "f7ba2f7904eb41669acd7c6139cbaaf7": {
          "model_module": "@jupyter-widgets/base",
          "model_name": "LayoutModel",
          "model_module_version": "1.2.0",
          "state": {
            "_model_module": "@jupyter-widgets/base",
            "_model_module_version": "1.2.0",
            "_model_name": "LayoutModel",
            "_view_count": null,
            "_view_module": "@jupyter-widgets/base",
            "_view_module_version": "1.2.0",
            "_view_name": "LayoutView",
            "align_content": null,
            "align_items": null,
            "align_self": null,
            "border": null,
            "bottom": null,
            "display": null,
            "flex": null,
            "flex_flow": null,
            "grid_area": null,
            "grid_auto_columns": null,
            "grid_auto_flow": null,
            "grid_auto_rows": null,
            "grid_column": null,
            "grid_gap": null,
            "grid_row": null,
            "grid_template_areas": null,
            "grid_template_columns": null,
            "grid_template_rows": null,
            "height": null,
            "justify_content": null,
            "justify_items": null,
            "left": null,
            "margin": null,
            "max_height": null,
            "max_width": null,
            "min_height": null,
            "min_width": null,
            "object_fit": null,
            "object_position": null,
            "order": null,
            "overflow": null,
            "overflow_x": null,
            "overflow_y": null,
            "padding": null,
            "right": null,
            "top": null,
            "visibility": null,
            "width": null
          }
        },
        "54cab53b9351481fa00bee7b1ae7f105": {
          "model_module": "@jupyter-widgets/base",
          "model_name": "LayoutModel",
          "model_module_version": "1.2.0",
          "state": {
            "_model_module": "@jupyter-widgets/base",
            "_model_module_version": "1.2.0",
            "_model_name": "LayoutModel",
            "_view_count": null,
            "_view_module": "@jupyter-widgets/base",
            "_view_module_version": "1.2.0",
            "_view_name": "LayoutView",
            "align_content": null,
            "align_items": null,
            "align_self": null,
            "border": null,
            "bottom": null,
            "display": null,
            "flex": null,
            "flex_flow": null,
            "grid_area": null,
            "grid_auto_columns": null,
            "grid_auto_flow": null,
            "grid_auto_rows": null,
            "grid_column": null,
            "grid_gap": null,
            "grid_row": null,
            "grid_template_areas": null,
            "grid_template_columns": null,
            "grid_template_rows": null,
            "height": null,
            "justify_content": null,
            "justify_items": null,
            "left": null,
            "margin": null,
            "max_height": null,
            "max_width": null,
            "min_height": null,
            "min_width": null,
            "object_fit": null,
            "object_position": null,
            "order": null,
            "overflow": null,
            "overflow_x": null,
            "overflow_y": null,
            "padding": null,
            "right": null,
            "top": null,
            "visibility": null,
            "width": null
          }
        },
        "1275a12b21b24a9c83ab4a8b87bdf6cb": {
          "model_module": "@jupyter-widgets/controls",
          "model_name": "DescriptionStyleModel",
          "model_module_version": "1.5.0",
          "state": {
            "_model_module": "@jupyter-widgets/controls",
            "_model_module_version": "1.5.0",
            "_model_name": "DescriptionStyleModel",
            "_view_count": null,
            "_view_module": "@jupyter-widgets/base",
            "_view_module_version": "1.2.0",
            "_view_name": "StyleView",
            "description_width": ""
          }
        },
        "e390ffb9cc8b48a08419077b4e8e560d": {
          "model_module": "@jupyter-widgets/base",
          "model_name": "LayoutModel",
          "model_module_version": "1.2.0",
          "state": {
            "_model_module": "@jupyter-widgets/base",
            "_model_module_version": "1.2.0",
            "_model_name": "LayoutModel",
            "_view_count": null,
            "_view_module": "@jupyter-widgets/base",
            "_view_module_version": "1.2.0",
            "_view_name": "LayoutView",
            "align_content": null,
            "align_items": null,
            "align_self": null,
            "border": null,
            "bottom": null,
            "display": null,
            "flex": null,
            "flex_flow": null,
            "grid_area": null,
            "grid_auto_columns": null,
            "grid_auto_flow": null,
            "grid_auto_rows": null,
            "grid_column": null,
            "grid_gap": null,
            "grid_row": null,
            "grid_template_areas": null,
            "grid_template_columns": null,
            "grid_template_rows": null,
            "height": null,
            "justify_content": null,
            "justify_items": null,
            "left": null,
            "margin": null,
            "max_height": null,
            "max_width": null,
            "min_height": null,
            "min_width": null,
            "object_fit": null,
            "object_position": null,
            "order": null,
            "overflow": null,
            "overflow_x": null,
            "overflow_y": null,
            "padding": null,
            "right": null,
            "top": null,
            "visibility": null,
            "width": null
          }
        },
        "8efa39aeb66145c58a8c0d6de8d45c75": {
          "model_module": "@jupyter-widgets/controls",
          "model_name": "ProgressStyleModel",
          "model_module_version": "1.5.0",
          "state": {
            "_model_module": "@jupyter-widgets/controls",
            "_model_module_version": "1.5.0",
            "_model_name": "ProgressStyleModel",
            "_view_count": null,
            "_view_module": "@jupyter-widgets/base",
            "_view_module_version": "1.2.0",
            "_view_name": "StyleView",
            "bar_color": null,
            "description_width": ""
          }
        },
        "25e622b0b30a4311b6054f5505027831": {
          "model_module": "@jupyter-widgets/base",
          "model_name": "LayoutModel",
          "model_module_version": "1.2.0",
          "state": {
            "_model_module": "@jupyter-widgets/base",
            "_model_module_version": "1.2.0",
            "_model_name": "LayoutModel",
            "_view_count": null,
            "_view_module": "@jupyter-widgets/base",
            "_view_module_version": "1.2.0",
            "_view_name": "LayoutView",
            "align_content": null,
            "align_items": null,
            "align_self": null,
            "border": null,
            "bottom": null,
            "display": null,
            "flex": null,
            "flex_flow": null,
            "grid_area": null,
            "grid_auto_columns": null,
            "grid_auto_flow": null,
            "grid_auto_rows": null,
            "grid_column": null,
            "grid_gap": null,
            "grid_row": null,
            "grid_template_areas": null,
            "grid_template_columns": null,
            "grid_template_rows": null,
            "height": null,
            "justify_content": null,
            "justify_items": null,
            "left": null,
            "margin": null,
            "max_height": null,
            "max_width": null,
            "min_height": null,
            "min_width": null,
            "object_fit": null,
            "object_position": null,
            "order": null,
            "overflow": null,
            "overflow_x": null,
            "overflow_y": null,
            "padding": null,
            "right": null,
            "top": null,
            "visibility": null,
            "width": null
          }
        },
        "d88d65dc418f4dc3a4372b3683dc1439": {
          "model_module": "@jupyter-widgets/controls",
          "model_name": "DescriptionStyleModel",
          "model_module_version": "1.5.0",
          "state": {
            "_model_module": "@jupyter-widgets/controls",
            "_model_module_version": "1.5.0",
            "_model_name": "DescriptionStyleModel",
            "_view_count": null,
            "_view_module": "@jupyter-widgets/base",
            "_view_module_version": "1.2.0",
            "_view_name": "StyleView",
            "description_width": ""
          }
        },
        "3ae8b49510bd49689310875d7d509b66": {
          "model_module": "@jupyter-widgets/controls",
          "model_name": "HBoxModel",
          "model_module_version": "1.5.0",
          "state": {
            "_dom_classes": [],
            "_model_module": "@jupyter-widgets/controls",
            "_model_module_version": "1.5.0",
            "_model_name": "HBoxModel",
            "_view_count": null,
            "_view_module": "@jupyter-widgets/controls",
            "_view_module_version": "1.5.0",
            "_view_name": "HBoxView",
            "box_style": "",
            "children": [
              "IPY_MODEL_c16186c47c55453099b8c6984a278f6d",
              "IPY_MODEL_65f3b583678f4115af7131cece18d2af",
              "IPY_MODEL_15674164f4e64bbfbfc733ebd89c8a8f"
            ],
            "layout": "IPY_MODEL_fed8f5657f0f4657bd54e404adf5e186"
          }
        },
        "c16186c47c55453099b8c6984a278f6d": {
          "model_module": "@jupyter-widgets/controls",
          "model_name": "HTMLModel",
          "model_module_version": "1.5.0",
          "state": {
            "_dom_classes": [],
            "_model_module": "@jupyter-widgets/controls",
            "_model_module_version": "1.5.0",
            "_model_name": "HTMLModel",
            "_view_count": null,
            "_view_module": "@jupyter-widgets/controls",
            "_view_module_version": "1.5.0",
            "_view_name": "HTMLView",
            "description": "",
            "description_tooltip": null,
            "layout": "IPY_MODEL_c3b6d04de0a349ae8ddd2dba88753392",
            "placeholder": "​",
            "style": "IPY_MODEL_9b21b55e5118487596d10a283d47d599",
            "value": "training routine: "
          }
        },
        "65f3b583678f4115af7131cece18d2af": {
          "model_module": "@jupyter-widgets/controls",
          "model_name": "FloatProgressModel",
          "model_module_version": "1.5.0",
          "state": {
            "_dom_classes": [],
            "_model_module": "@jupyter-widgets/controls",
            "_model_module_version": "1.5.0",
            "_model_name": "FloatProgressModel",
            "_view_count": null,
            "_view_module": "@jupyter-widgets/controls",
            "_view_module_version": "1.5.0",
            "_view_name": "ProgressView",
            "bar_style": "",
            "description": "",
            "description_tooltip": null,
            "layout": "IPY_MODEL_7b3d7db537604cf999c96f4dd4559045",
            "max": 100,
            "min": 0,
            "orientation": "horizontal",
            "style": "IPY_MODEL_a2167824910a41c49720042a2aeb4a66",
            "value": 100
          }
        },
        "15674164f4e64bbfbfc733ebd89c8a8f": {
          "model_module": "@jupyter-widgets/controls",
          "model_name": "HTMLModel",
          "model_module_version": "1.5.0",
          "state": {
            "_dom_classes": [],
            "_model_module": "@jupyter-widgets/controls",
            "_model_module_version": "1.5.0",
            "_model_name": "HTMLModel",
            "_view_count": null,
            "_view_module": "@jupyter-widgets/controls",
            "_view_module_version": "1.5.0",
            "_view_name": "HTMLView",
            "description": "",
            "description_tooltip": null,
            "layout": "IPY_MODEL_929aed640b93459db0f92705c1f1e84c",
            "placeholder": "​",
            "style": "IPY_MODEL_e05b37e8d4db4b7ea31413cfa3d2dcf5",
            "value": " 200/? [00:28&lt;00:00, 15.43it/s]"
          }
        },
        "fed8f5657f0f4657bd54e404adf5e186": {
          "model_module": "@jupyter-widgets/base",
          "model_name": "LayoutModel",
          "model_module_version": "1.2.0",
          "state": {
            "_model_module": "@jupyter-widgets/base",
            "_model_module_version": "1.2.0",
            "_model_name": "LayoutModel",
            "_view_count": null,
            "_view_module": "@jupyter-widgets/base",
            "_view_module_version": "1.2.0",
            "_view_name": "LayoutView",
            "align_content": null,
            "align_items": null,
            "align_self": null,
            "border": null,
            "bottom": null,
            "display": null,
            "flex": null,
            "flex_flow": null,
            "grid_area": null,
            "grid_auto_columns": null,
            "grid_auto_flow": null,
            "grid_auto_rows": null,
            "grid_column": null,
            "grid_gap": null,
            "grid_row": null,
            "grid_template_areas": null,
            "grid_template_columns": null,
            "grid_template_rows": null,
            "height": null,
            "justify_content": null,
            "justify_items": null,
            "left": null,
            "margin": null,
            "max_height": null,
            "max_width": null,
            "min_height": null,
            "min_width": null,
            "object_fit": null,
            "object_position": null,
            "order": null,
            "overflow": null,
            "overflow_x": null,
            "overflow_y": null,
            "padding": null,
            "right": null,
            "top": null,
            "visibility": null,
            "width": null
          }
        },
        "c3b6d04de0a349ae8ddd2dba88753392": {
          "model_module": "@jupyter-widgets/base",
          "model_name": "LayoutModel",
          "model_module_version": "1.2.0",
          "state": {
            "_model_module": "@jupyter-widgets/base",
            "_model_module_version": "1.2.0",
            "_model_name": "LayoutModel",
            "_view_count": null,
            "_view_module": "@jupyter-widgets/base",
            "_view_module_version": "1.2.0",
            "_view_name": "LayoutView",
            "align_content": null,
            "align_items": null,
            "align_self": null,
            "border": null,
            "bottom": null,
            "display": null,
            "flex": null,
            "flex_flow": null,
            "grid_area": null,
            "grid_auto_columns": null,
            "grid_auto_flow": null,
            "grid_auto_rows": null,
            "grid_column": null,
            "grid_gap": null,
            "grid_row": null,
            "grid_template_areas": null,
            "grid_template_columns": null,
            "grid_template_rows": null,
            "height": null,
            "justify_content": null,
            "justify_items": null,
            "left": null,
            "margin": null,
            "max_height": null,
            "max_width": null,
            "min_height": null,
            "min_width": null,
            "object_fit": null,
            "object_position": null,
            "order": null,
            "overflow": null,
            "overflow_x": null,
            "overflow_y": null,
            "padding": null,
            "right": null,
            "top": null,
            "visibility": null,
            "width": null
          }
        },
        "9b21b55e5118487596d10a283d47d599": {
          "model_module": "@jupyter-widgets/controls",
          "model_name": "DescriptionStyleModel",
          "model_module_version": "1.5.0",
          "state": {
            "_model_module": "@jupyter-widgets/controls",
            "_model_module_version": "1.5.0",
            "_model_name": "DescriptionStyleModel",
            "_view_count": null,
            "_view_module": "@jupyter-widgets/base",
            "_view_module_version": "1.2.0",
            "_view_name": "StyleView",
            "description_width": ""
          }
        },
        "7b3d7db537604cf999c96f4dd4559045": {
          "model_module": "@jupyter-widgets/base",
          "model_name": "LayoutModel",
          "model_module_version": "1.2.0",
          "state": {
            "_model_module": "@jupyter-widgets/base",
            "_model_module_version": "1.2.0",
            "_model_name": "LayoutModel",
            "_view_count": null,
            "_view_module": "@jupyter-widgets/base",
            "_view_module_version": "1.2.0",
            "_view_name": "LayoutView",
            "align_content": null,
            "align_items": null,
            "align_self": null,
            "border": null,
            "bottom": null,
            "display": null,
            "flex": null,
            "flex_flow": null,
            "grid_area": null,
            "grid_auto_columns": null,
            "grid_auto_flow": null,
            "grid_auto_rows": null,
            "grid_column": null,
            "grid_gap": null,
            "grid_row": null,
            "grid_template_areas": null,
            "grid_template_columns": null,
            "grid_template_rows": null,
            "height": null,
            "justify_content": null,
            "justify_items": null,
            "left": null,
            "margin": null,
            "max_height": null,
            "max_width": null,
            "min_height": null,
            "min_width": null,
            "object_fit": null,
            "object_position": null,
            "order": null,
            "overflow": null,
            "overflow_x": null,
            "overflow_y": null,
            "padding": null,
            "right": null,
            "top": null,
            "visibility": null,
            "width": null
          }
        },
        "a2167824910a41c49720042a2aeb4a66": {
          "model_module": "@jupyter-widgets/controls",
          "model_name": "ProgressStyleModel",
          "model_module_version": "1.5.0",
          "state": {
            "_model_module": "@jupyter-widgets/controls",
            "_model_module_version": "1.5.0",
            "_model_name": "ProgressStyleModel",
            "_view_count": null,
            "_view_module": "@jupyter-widgets/base",
            "_view_module_version": "1.2.0",
            "_view_name": "StyleView",
            "bar_color": null,
            "description_width": ""
          }
        },
        "929aed640b93459db0f92705c1f1e84c": {
          "model_module": "@jupyter-widgets/base",
          "model_name": "LayoutModel",
          "model_module_version": "1.2.0",
          "state": {
            "_model_module": "@jupyter-widgets/base",
            "_model_module_version": "1.2.0",
            "_model_name": "LayoutModel",
            "_view_count": null,
            "_view_module": "@jupyter-widgets/base",
            "_view_module_version": "1.2.0",
            "_view_name": "LayoutView",
            "align_content": null,
            "align_items": null,
            "align_self": null,
            "border": null,
            "bottom": null,
            "display": null,
            "flex": null,
            "flex_flow": null,
            "grid_area": null,
            "grid_auto_columns": null,
            "grid_auto_flow": null,
            "grid_auto_rows": null,
            "grid_column": null,
            "grid_gap": null,
            "grid_row": null,
            "grid_template_areas": null,
            "grid_template_columns": null,
            "grid_template_rows": null,
            "height": null,
            "justify_content": null,
            "justify_items": null,
            "left": null,
            "margin": null,
            "max_height": null,
            "max_width": null,
            "min_height": null,
            "min_width": null,
            "object_fit": null,
            "object_position": null,
            "order": null,
            "overflow": null,
            "overflow_x": null,
            "overflow_y": null,
            "padding": null,
            "right": null,
            "top": null,
            "visibility": null,
            "width": null
          }
        },
        "e05b37e8d4db4b7ea31413cfa3d2dcf5": {
          "model_module": "@jupyter-widgets/controls",
          "model_name": "DescriptionStyleModel",
          "model_module_version": "1.5.0",
          "state": {
            "_model_module": "@jupyter-widgets/controls",
            "_model_module_version": "1.5.0",
            "_model_name": "DescriptionStyleModel",
            "_view_count": null,
            "_view_module": "@jupyter-widgets/base",
            "_view_module_version": "1.2.0",
            "_view_name": "StyleView",
            "description_width": ""
          }
        },
        "cf712a2c6b554a7db782be07418392aa": {
          "model_module": "@jupyter-widgets/controls",
          "model_name": "HBoxModel",
          "model_module_version": "1.5.0",
          "state": {
            "_dom_classes": [],
            "_model_module": "@jupyter-widgets/controls",
            "_model_module_version": "1.5.0",
            "_model_name": "HBoxModel",
            "_view_count": null,
            "_view_module": "@jupyter-widgets/controls",
            "_view_module_version": "1.5.0",
            "_view_name": "HBoxView",
            "box_style": "",
            "children": [
              "IPY_MODEL_2bcf4f99012d4451b9707c9c851aaa4e",
              "IPY_MODEL_de72dcb11fea4512b786d35cdae6ee11",
              "IPY_MODEL_25b7e46ac5234828ad1bc8738efd4672"
            ],
            "layout": "IPY_MODEL_502100a12c654e83aeca40210f1ddce1"
          }
        },
        "2bcf4f99012d4451b9707c9c851aaa4e": {
          "model_module": "@jupyter-widgets/controls",
          "model_name": "HTMLModel",
          "model_module_version": "1.5.0",
          "state": {
            "_dom_classes": [],
            "_model_module": "@jupyter-widgets/controls",
            "_model_module_version": "1.5.0",
            "_model_name": "HTMLModel",
            "_view_count": null,
            "_view_module": "@jupyter-widgets/controls",
            "_view_module_version": "1.5.0",
            "_view_name": "HTMLView",
            "description": "",
            "description_tooltip": null,
            "layout": "IPY_MODEL_82a1475bdc50431f987282f82b6bab55",
            "placeholder": "​",
            "style": "IPY_MODEL_5a85d76a6ce646399fda21689439c400",
            "value": "split=train:   0%"
          }
        },
        "de72dcb11fea4512b786d35cdae6ee11": {
          "model_module": "@jupyter-widgets/controls",
          "model_name": "FloatProgressModel",
          "model_module_version": "1.5.0",
          "state": {
            "_dom_classes": [],
            "_model_module": "@jupyter-widgets/controls",
            "_model_module_version": "1.5.0",
            "_model_name": "FloatProgressModel",
            "_view_count": null,
            "_view_module": "@jupyter-widgets/controls",
            "_view_module_version": "1.5.0",
            "_view_name": "ProgressView",
            "bar_style": "",
            "description": "",
            "description_tooltip": null,
            "layout": "IPY_MODEL_efb322400ca74f02bb6bad2d62e11208",
            "max": 5,
            "min": 0,
            "orientation": "horizontal",
            "style": "IPY_MODEL_467e08844e0e4a408ac71d978cfec946",
            "value": 0
          }
        },
        "25b7e46ac5234828ad1bc8738efd4672": {
          "model_module": "@jupyter-widgets/controls",
          "model_name": "HTMLModel",
          "model_module_version": "1.5.0",
          "state": {
            "_dom_classes": [],
            "_model_module": "@jupyter-widgets/controls",
            "_model_module_version": "1.5.0",
            "_model_name": "HTMLModel",
            "_view_count": null,
            "_view_module": "@jupyter-widgets/controls",
            "_view_module_version": "1.5.0",
            "_view_name": "HTMLView",
            "description": "",
            "description_tooltip": null,
            "layout": "IPY_MODEL_ff6f22e7cca64fa7a22cb1e870bd4df8",
            "placeholder": "​",
            "style": "IPY_MODEL_534ff002042540cfbe8f21e156d83a61",
            "value": " 0/5 [00:18&lt;00:00, 49.82it/s, acc=94.5, epoch=99, loss=1.25]"
          }
        },
        "502100a12c654e83aeca40210f1ddce1": {
          "model_module": "@jupyter-widgets/base",
          "model_name": "LayoutModel",
          "model_module_version": "1.2.0",
          "state": {
            "_model_module": "@jupyter-widgets/base",
            "_model_module_version": "1.2.0",
            "_model_name": "LayoutModel",
            "_view_count": null,
            "_view_module": "@jupyter-widgets/base",
            "_view_module_version": "1.2.0",
            "_view_name": "LayoutView",
            "align_content": null,
            "align_items": null,
            "align_self": null,
            "border": null,
            "bottom": null,
            "display": null,
            "flex": null,
            "flex_flow": null,
            "grid_area": null,
            "grid_auto_columns": null,
            "grid_auto_flow": null,
            "grid_auto_rows": null,
            "grid_column": null,
            "grid_gap": null,
            "grid_row": null,
            "grid_template_areas": null,
            "grid_template_columns": null,
            "grid_template_rows": null,
            "height": null,
            "justify_content": null,
            "justify_items": null,
            "left": null,
            "margin": null,
            "max_height": null,
            "max_width": null,
            "min_height": null,
            "min_width": null,
            "object_fit": null,
            "object_position": null,
            "order": null,
            "overflow": null,
            "overflow_x": null,
            "overflow_y": null,
            "padding": null,
            "right": null,
            "top": null,
            "visibility": null,
            "width": null
          }
        },
        "82a1475bdc50431f987282f82b6bab55": {
          "model_module": "@jupyter-widgets/base",
          "model_name": "LayoutModel",
          "model_module_version": "1.2.0",
          "state": {
            "_model_module": "@jupyter-widgets/base",
            "_model_module_version": "1.2.0",
            "_model_name": "LayoutModel",
            "_view_count": null,
            "_view_module": "@jupyter-widgets/base",
            "_view_module_version": "1.2.0",
            "_view_name": "LayoutView",
            "align_content": null,
            "align_items": null,
            "align_self": null,
            "border": null,
            "bottom": null,
            "display": null,
            "flex": null,
            "flex_flow": null,
            "grid_area": null,
            "grid_auto_columns": null,
            "grid_auto_flow": null,
            "grid_auto_rows": null,
            "grid_column": null,
            "grid_gap": null,
            "grid_row": null,
            "grid_template_areas": null,
            "grid_template_columns": null,
            "grid_template_rows": null,
            "height": null,
            "justify_content": null,
            "justify_items": null,
            "left": null,
            "margin": null,
            "max_height": null,
            "max_width": null,
            "min_height": null,
            "min_width": null,
            "object_fit": null,
            "object_position": null,
            "order": null,
            "overflow": null,
            "overflow_x": null,
            "overflow_y": null,
            "padding": null,
            "right": null,
            "top": null,
            "visibility": null,
            "width": null
          }
        },
        "5a85d76a6ce646399fda21689439c400": {
          "model_module": "@jupyter-widgets/controls",
          "model_name": "DescriptionStyleModel",
          "model_module_version": "1.5.0",
          "state": {
            "_model_module": "@jupyter-widgets/controls",
            "_model_module_version": "1.5.0",
            "_model_name": "DescriptionStyleModel",
            "_view_count": null,
            "_view_module": "@jupyter-widgets/base",
            "_view_module_version": "1.2.0",
            "_view_name": "StyleView",
            "description_width": ""
          }
        },
        "efb322400ca74f02bb6bad2d62e11208": {
          "model_module": "@jupyter-widgets/base",
          "model_name": "LayoutModel",
          "model_module_version": "1.2.0",
          "state": {
            "_model_module": "@jupyter-widgets/base",
            "_model_module_version": "1.2.0",
            "_model_name": "LayoutModel",
            "_view_count": null,
            "_view_module": "@jupyter-widgets/base",
            "_view_module_version": "1.2.0",
            "_view_name": "LayoutView",
            "align_content": null,
            "align_items": null,
            "align_self": null,
            "border": null,
            "bottom": null,
            "display": null,
            "flex": null,
            "flex_flow": null,
            "grid_area": null,
            "grid_auto_columns": null,
            "grid_auto_flow": null,
            "grid_auto_rows": null,
            "grid_column": null,
            "grid_gap": null,
            "grid_row": null,
            "grid_template_areas": null,
            "grid_template_columns": null,
            "grid_template_rows": null,
            "height": null,
            "justify_content": null,
            "justify_items": null,
            "left": null,
            "margin": null,
            "max_height": null,
            "max_width": null,
            "min_height": null,
            "min_width": null,
            "object_fit": null,
            "object_position": null,
            "order": null,
            "overflow": null,
            "overflow_x": null,
            "overflow_y": null,
            "padding": null,
            "right": null,
            "top": null,
            "visibility": null,
            "width": null
          }
        },
        "467e08844e0e4a408ac71d978cfec946": {
          "model_module": "@jupyter-widgets/controls",
          "model_name": "ProgressStyleModel",
          "model_module_version": "1.5.0",
          "state": {
            "_model_module": "@jupyter-widgets/controls",
            "_model_module_version": "1.5.0",
            "_model_name": "ProgressStyleModel",
            "_view_count": null,
            "_view_module": "@jupyter-widgets/base",
            "_view_module_version": "1.2.0",
            "_view_name": "StyleView",
            "bar_color": null,
            "description_width": ""
          }
        },
        "ff6f22e7cca64fa7a22cb1e870bd4df8": {
          "model_module": "@jupyter-widgets/base",
          "model_name": "LayoutModel",
          "model_module_version": "1.2.0",
          "state": {
            "_model_module": "@jupyter-widgets/base",
            "_model_module_version": "1.2.0",
            "_model_name": "LayoutModel",
            "_view_count": null,
            "_view_module": "@jupyter-widgets/base",
            "_view_module_version": "1.2.0",
            "_view_name": "LayoutView",
            "align_content": null,
            "align_items": null,
            "align_self": null,
            "border": null,
            "bottom": null,
            "display": null,
            "flex": null,
            "flex_flow": null,
            "grid_area": null,
            "grid_auto_columns": null,
            "grid_auto_flow": null,
            "grid_auto_rows": null,
            "grid_column": null,
            "grid_gap": null,
            "grid_row": null,
            "grid_template_areas": null,
            "grid_template_columns": null,
            "grid_template_rows": null,
            "height": null,
            "justify_content": null,
            "justify_items": null,
            "left": null,
            "margin": null,
            "max_height": null,
            "max_width": null,
            "min_height": null,
            "min_width": null,
            "object_fit": null,
            "object_position": null,
            "order": null,
            "overflow": null,
            "overflow_x": null,
            "overflow_y": null,
            "padding": null,
            "right": null,
            "top": null,
            "visibility": null,
            "width": null
          }
        },
        "534ff002042540cfbe8f21e156d83a61": {
          "model_module": "@jupyter-widgets/controls",
          "model_name": "DescriptionStyleModel",
          "model_module_version": "1.5.0",
          "state": {
            "_model_module": "@jupyter-widgets/controls",
            "_model_module_version": "1.5.0",
            "_model_name": "DescriptionStyleModel",
            "_view_count": null,
            "_view_module": "@jupyter-widgets/base",
            "_view_module_version": "1.2.0",
            "_view_name": "StyleView",
            "description_width": ""
          }
        },
        "cf3bc1d867984bff985569e47e3a241e": {
          "model_module": "@jupyter-widgets/controls",
          "model_name": "HBoxModel",
          "model_module_version": "1.5.0",
          "state": {
            "_dom_classes": [],
            "_model_module": "@jupyter-widgets/controls",
            "_model_module_version": "1.5.0",
            "_model_name": "HBoxModel",
            "_view_count": null,
            "_view_module": "@jupyter-widgets/controls",
            "_view_module_version": "1.5.0",
            "_view_name": "HBoxView",
            "box_style": "",
            "children": [
              "IPY_MODEL_569d84ebbeeb4e73bff355ec18f58e3f",
              "IPY_MODEL_5a47af4565d94375be41881206ebc89f",
              "IPY_MODEL_cfd9bbdb69f64d278b178fac6951baee"
            ],
            "layout": "IPY_MODEL_0fbf8a450e45427c941d91e26b6a797e"
          }
        },
        "569d84ebbeeb4e73bff355ec18f58e3f": {
          "model_module": "@jupyter-widgets/controls",
          "model_name": "HTMLModel",
          "model_module_version": "1.5.0",
          "state": {
            "_dom_classes": [],
            "_model_module": "@jupyter-widgets/controls",
            "_model_module_version": "1.5.0",
            "_model_name": "HTMLModel",
            "_view_count": null,
            "_view_module": "@jupyter-widgets/controls",
            "_view_module_version": "1.5.0",
            "_view_name": "HTMLView",
            "description": "",
            "description_tooltip": null,
            "layout": "IPY_MODEL_e0f0de9919bc4b169b20ccfc09899624",
            "placeholder": "​",
            "style": "IPY_MODEL_b52767f2f5af491d94f89ba9f60f03a0",
            "value": "split=val:   0%"
          }
        },
        "5a47af4565d94375be41881206ebc89f": {
          "model_module": "@jupyter-widgets/controls",
          "model_name": "FloatProgressModel",
          "model_module_version": "1.5.0",
          "state": {
            "_dom_classes": [],
            "_model_module": "@jupyter-widgets/controls",
            "_model_module_version": "1.5.0",
            "_model_name": "FloatProgressModel",
            "_view_count": null,
            "_view_module": "@jupyter-widgets/controls",
            "_view_module_version": "1.5.0",
            "_view_name": "ProgressView",
            "bar_style": "",
            "description": "",
            "description_tooltip": null,
            "layout": "IPY_MODEL_552a687fc2804c9498cf971e968c56bf",
            "max": 5,
            "min": 0,
            "orientation": "horizontal",
            "style": "IPY_MODEL_a9cf5a06142043508a85a9d3aa6327c8",
            "value": 0
          }
        },
        "cfd9bbdb69f64d278b178fac6951baee": {
          "model_module": "@jupyter-widgets/controls",
          "model_name": "HTMLModel",
          "model_module_version": "1.5.0",
          "state": {
            "_dom_classes": [],
            "_model_module": "@jupyter-widgets/controls",
            "_model_module_version": "1.5.0",
            "_model_name": "HTMLModel",
            "_view_count": null,
            "_view_module": "@jupyter-widgets/controls",
            "_view_module_version": "1.5.0",
            "_view_name": "HTMLView",
            "description": "",
            "description_tooltip": null,
            "layout": "IPY_MODEL_40d8b2326fc9402f9773787c13047484",
            "placeholder": "​",
            "style": "IPY_MODEL_43584993e4f94cda92f5ba55822b0509",
            "value": " 0/5 [00:17&lt;00:00, 15.60it/s, acc=91.1, epoch=99, loss=1.29]"
          }
        },
        "0fbf8a450e45427c941d91e26b6a797e": {
          "model_module": "@jupyter-widgets/base",
          "model_name": "LayoutModel",
          "model_module_version": "1.2.0",
          "state": {
            "_model_module": "@jupyter-widgets/base",
            "_model_module_version": "1.2.0",
            "_model_name": "LayoutModel",
            "_view_count": null,
            "_view_module": "@jupyter-widgets/base",
            "_view_module_version": "1.2.0",
            "_view_name": "LayoutView",
            "align_content": null,
            "align_items": null,
            "align_self": null,
            "border": null,
            "bottom": null,
            "display": null,
            "flex": null,
            "flex_flow": null,
            "grid_area": null,
            "grid_auto_columns": null,
            "grid_auto_flow": null,
            "grid_auto_rows": null,
            "grid_column": null,
            "grid_gap": null,
            "grid_row": null,
            "grid_template_areas": null,
            "grid_template_columns": null,
            "grid_template_rows": null,
            "height": null,
            "justify_content": null,
            "justify_items": null,
            "left": null,
            "margin": null,
            "max_height": null,
            "max_width": null,
            "min_height": null,
            "min_width": null,
            "object_fit": null,
            "object_position": null,
            "order": null,
            "overflow": null,
            "overflow_x": null,
            "overflow_y": null,
            "padding": null,
            "right": null,
            "top": null,
            "visibility": null,
            "width": null
          }
        },
        "e0f0de9919bc4b169b20ccfc09899624": {
          "model_module": "@jupyter-widgets/base",
          "model_name": "LayoutModel",
          "model_module_version": "1.2.0",
          "state": {
            "_model_module": "@jupyter-widgets/base",
            "_model_module_version": "1.2.0",
            "_model_name": "LayoutModel",
            "_view_count": null,
            "_view_module": "@jupyter-widgets/base",
            "_view_module_version": "1.2.0",
            "_view_name": "LayoutView",
            "align_content": null,
            "align_items": null,
            "align_self": null,
            "border": null,
            "bottom": null,
            "display": null,
            "flex": null,
            "flex_flow": null,
            "grid_area": null,
            "grid_auto_columns": null,
            "grid_auto_flow": null,
            "grid_auto_rows": null,
            "grid_column": null,
            "grid_gap": null,
            "grid_row": null,
            "grid_template_areas": null,
            "grid_template_columns": null,
            "grid_template_rows": null,
            "height": null,
            "justify_content": null,
            "justify_items": null,
            "left": null,
            "margin": null,
            "max_height": null,
            "max_width": null,
            "min_height": null,
            "min_width": null,
            "object_fit": null,
            "object_position": null,
            "order": null,
            "overflow": null,
            "overflow_x": null,
            "overflow_y": null,
            "padding": null,
            "right": null,
            "top": null,
            "visibility": null,
            "width": null
          }
        },
        "b52767f2f5af491d94f89ba9f60f03a0": {
          "model_module": "@jupyter-widgets/controls",
          "model_name": "DescriptionStyleModel",
          "model_module_version": "1.5.0",
          "state": {
            "_model_module": "@jupyter-widgets/controls",
            "_model_module_version": "1.5.0",
            "_model_name": "DescriptionStyleModel",
            "_view_count": null,
            "_view_module": "@jupyter-widgets/base",
            "_view_module_version": "1.2.0",
            "_view_name": "StyleView",
            "description_width": ""
          }
        },
        "552a687fc2804c9498cf971e968c56bf": {
          "model_module": "@jupyter-widgets/base",
          "model_name": "LayoutModel",
          "model_module_version": "1.2.0",
          "state": {
            "_model_module": "@jupyter-widgets/base",
            "_model_module_version": "1.2.0",
            "_model_name": "LayoutModel",
            "_view_count": null,
            "_view_module": "@jupyter-widgets/base",
            "_view_module_version": "1.2.0",
            "_view_name": "LayoutView",
            "align_content": null,
            "align_items": null,
            "align_self": null,
            "border": null,
            "bottom": null,
            "display": null,
            "flex": null,
            "flex_flow": null,
            "grid_area": null,
            "grid_auto_columns": null,
            "grid_auto_flow": null,
            "grid_auto_rows": null,
            "grid_column": null,
            "grid_gap": null,
            "grid_row": null,
            "grid_template_areas": null,
            "grid_template_columns": null,
            "grid_template_rows": null,
            "height": null,
            "justify_content": null,
            "justify_items": null,
            "left": null,
            "margin": null,
            "max_height": null,
            "max_width": null,
            "min_height": null,
            "min_width": null,
            "object_fit": null,
            "object_position": null,
            "order": null,
            "overflow": null,
            "overflow_x": null,
            "overflow_y": null,
            "padding": null,
            "right": null,
            "top": null,
            "visibility": null,
            "width": null
          }
        },
        "a9cf5a06142043508a85a9d3aa6327c8": {
          "model_module": "@jupyter-widgets/controls",
          "model_name": "ProgressStyleModel",
          "model_module_version": "1.5.0",
          "state": {
            "_model_module": "@jupyter-widgets/controls",
            "_model_module_version": "1.5.0",
            "_model_name": "ProgressStyleModel",
            "_view_count": null,
            "_view_module": "@jupyter-widgets/base",
            "_view_module_version": "1.2.0",
            "_view_name": "StyleView",
            "bar_color": null,
            "description_width": ""
          }
        },
        "40d8b2326fc9402f9773787c13047484": {
          "model_module": "@jupyter-widgets/base",
          "model_name": "LayoutModel",
          "model_module_version": "1.2.0",
          "state": {
            "_model_module": "@jupyter-widgets/base",
            "_model_module_version": "1.2.0",
            "_model_name": "LayoutModel",
            "_view_count": null,
            "_view_module": "@jupyter-widgets/base",
            "_view_module_version": "1.2.0",
            "_view_name": "LayoutView",
            "align_content": null,
            "align_items": null,
            "align_self": null,
            "border": null,
            "bottom": null,
            "display": null,
            "flex": null,
            "flex_flow": null,
            "grid_area": null,
            "grid_auto_columns": null,
            "grid_auto_flow": null,
            "grid_auto_rows": null,
            "grid_column": null,
            "grid_gap": null,
            "grid_row": null,
            "grid_template_areas": null,
            "grid_template_columns": null,
            "grid_template_rows": null,
            "height": null,
            "justify_content": null,
            "justify_items": null,
            "left": null,
            "margin": null,
            "max_height": null,
            "max_width": null,
            "min_height": null,
            "min_width": null,
            "object_fit": null,
            "object_position": null,
            "order": null,
            "overflow": null,
            "overflow_x": null,
            "overflow_y": null,
            "padding": null,
            "right": null,
            "top": null,
            "visibility": null,
            "width": null
          }
        },
        "43584993e4f94cda92f5ba55822b0509": {
          "model_module": "@jupyter-widgets/controls",
          "model_name": "DescriptionStyleModel",
          "model_module_version": "1.5.0",
          "state": {
            "_model_module": "@jupyter-widgets/controls",
            "_model_module_version": "1.5.0",
            "_model_name": "DescriptionStyleModel",
            "_view_count": null,
            "_view_module": "@jupyter-widgets/base",
            "_view_module_version": "1.2.0",
            "_view_name": "StyleView",
            "description_width": ""
          }
        }
      }
    }
  },
  "nbformat": 4,
  "nbformat_minor": 0
}